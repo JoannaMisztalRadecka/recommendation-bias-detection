{
 "cells": [
  {
   "cell_type": "code",
   "execution_count": 1,
   "metadata": {},
   "outputs": [],
   "source": [
    "from bias_tree import BiasDetectionTree, get_metric_bias_tree_for_model\n",
    "from data_preparation.movielens_100k import MovieLens100KData\n",
    "from data_preparation.book_crossing import BookCrossingData\n",
    "from recommender.surprise_recommender import random_search_fit_surprise_recommendation_model\n",
    "import pandas as pd\n",
    "import surprise"
   ]
  },
  {
   "cell_type": "markdown",
   "metadata": {},
   "source": [
    "### Prepare training data"
   ]
  },
  {
   "cell_type": "code",
   "execution_count": 2,
   "metadata": {},
   "outputs": [
    {
     "name": "stderr",
     "output_type": "stream",
     "text": [
      "C:\\Users\\Asia\\Anaconda3\\lib\\site-packages\\ipykernel_launcher.py:2: DtypeWarning: Columns (3) have mixed types.Specify dtype option on import or set low_memory=False.\n",
      "  \n"
     ]
    }
   ],
   "source": [
    "data = BookCrossingData(data_path='data/book-crossing') #MovieLens100KData(data_path='data/ml-100k')\n",
    "X_train, X_test = data.get_data_splits_for_training(use_val_set=False)"
   ]
  },
  {
   "cell_type": "code",
   "execution_count": 3,
   "metadata": {},
   "outputs": [
    {
     "data": {
      "text/plain": [
       "(67317, 23)"
      ]
     },
     "execution_count": 3,
     "metadata": {},
     "output_type": "execute_result"
    }
   ],
   "source": [
    "X_train.shape"
   ]
  },
  {
   "cell_type": "markdown",
   "metadata": {},
   "source": [
    "### Train CF models and tune their hyperparameters"
   ]
  },
  {
   "cell_type": "code",
   "execution_count": null,
   "metadata": {},
   "outputs": [],
   "source": [
    "MODEL_GRID =[(surprise.SVD,  {'biased': [True, False], 'n_factors': [ 10, 20, 50], \n",
    "            'n_epochs': [5, 20, 50],\n",
    "#                            'reg_all': [0.01, 0.06, 0.1],\n",
    "     'lr_all': [0.001, 0.01],\n",
    "    }),\n",
    "#                (surprise.NMF, {'biased': [True, False], 'n_factors': [ 10, 20, 50], 'n_epochs': [5, 20, 50],\n",
    "#                            'reg_pu': [0.01, 0.06, 0.1], 'reg_qi': [0.01, 0.06, 0.1],\n",
    "#     'reg_bu': [0.02, 0.06, 0.1],\n",
    "#     'reg_bi': [0.02, 0.06, 0.1],\n",
    "#     'lr_bu': [0.001, 0.005, 0.01],\n",
    "#      'lr_bi': [0.001, 0.005, 0.01],\n",
    "#                               }),\n",
    "#     (surprise.CoClustering,    {'n_cltr_u': [5, 10, 50, 100], 'n_cltr_i': [ 5, 10,50, 100]}),\n",
    "(surprise.KNNWithMeans, {'user_based': [True, False], 'k': [5, 10, 50, 100],}), \n",
    "# (KNNWithZScore, {'user_based': [True, False], 'k': [5, 10, 20, 50, 100],}), \n",
    "#                 (surprise.SlopeOne, {}),\n",
    "            ]"
   ]
  },
  {
   "cell_type": "code",
   "execution_count": null,
   "metadata": {
    "scrolled": true
   },
   "outputs": [],
   "source": [
    "N_ITER = 1\n",
    "MIN_CHILD_NODE_SIZE = 1000\n",
    "METRIC = 'squared_error'\n",
    "ALPHA = 0.01\n",
    "\n",
    "leaf_metrics_models = []\n",
    "avg_metric = {}\n",
    "\n",
    "for model_cls, grid in MODEL_GRID:\n",
    "    print('-----------------')\n",
    "    print(model_cls.__name__)\n",
    "    model = random_search_fit_surprise_recommendation_model(X_train, model_cls, grid, n_iter=N_ITER,\n",
    "                                                            user_col=data.USER_ID_COL_TRANSFORMED, \n",
    "                                                            item_col=data.ITEM_ID_COL_TRANSFORMED, \n",
    "                                                           rating_col=data.RATING_COL)\n",
    "    bias_tree_test = get_metric_bias_tree_for_model(model, X_test, data.attributes_dict, \n",
    "                                                 metric_name=METRIC,\n",
    "                                                min_child_node_size=MIN_CHILD_NODE_SIZE, alpha=ALPHA,\n",
    "                                                user_col=data.USER_ID_COL_TRANSFORMED, \n",
    "                                                item_col=data.ITEM_ID_COL_TRANSFORMED, \n",
    "                                                rating_col=data.RATING_COL)\n",
    "    avg_metric[model_cls.__name__] = X_test[METRIC].mean()\n",
    "    model_leaf_metrics = bias_tree_test.leaf_metrics\n",
    "    model_leaf_metrics['model'] = model_cls.__name__\n",
    "    leaf_metrics_models.append(model_leaf_metrics)\n",
    "    print(\"Most biased leaf: \", bias_tree_test.max_metric_node, round(bias_tree_test.max_metric_value, 3))"
   ]
  },
  {
   "cell_type": "markdown",
   "metadata": {},
   "source": [
    "### Select  model with fairness objective"
   ]
  },
  {
   "cell_type": "code",
   "execution_count": 25,
   "metadata": {},
   "outputs": [
    {
     "data": {
      "text/plain": [
       "SVD             0.897179\n",
       "KNNWithMeans    0.940138\n",
       "dtype: float64"
      ]
     },
     "metadata": {},
     "output_type": "display_data"
    }
   ],
   "source": [
    "avg_metrics_pd = pd.Series(avg_metric)\n",
    "display(avg_metrics_pd.sort_values())\n",
    "best_model_global = avg_metrics_pd.idxmin()"
   ]
  },
  {
   "cell_type": "code",
   "execution_count": 26,
   "metadata": {},
   "outputs": [],
   "source": [
    "leaf_metrics_models_pd = pd.concat(leaf_metrics_models)\n",
    "metrics_global_max_bias = leaf_metrics_models_pd.groupby('model').max()['mean'].to_frame().join(avg_metrics_pd.to_frame())\n",
    "metrics_global_max_bias.columns=['max bias', 'global']"
   ]
  },
  {
   "cell_type": "code",
   "execution_count": 27,
   "metadata": {},
   "outputs": [],
   "source": [
    "FAIRNESS_ALPHA = 1\n",
    "metrics_global_max_bias['weighted_fair_metric'] = FAIRNESS_ALPHA * metrics_global_max_bias['max bias'] \\\n",
    "                                                    + (1-FAIRNESS_ALPHA)* metrics_global_max_bias['global']"
   ]
  },
  {
   "cell_type": "code",
   "execution_count": 28,
   "metadata": {},
   "outputs": [
    {
     "data": {
      "text/plain": [
       "model\n",
       "SVD             1.126339\n",
       "KNNWithMeans    1.180301\n",
       "Name: weighted_fair_metric, dtype: float64"
      ]
     },
     "execution_count": 28,
     "metadata": {},
     "output_type": "execute_result"
    }
   ],
   "source": [
    "metrics_global_max_bias['weighted_fair_metric'].sort_values()"
   ]
  },
  {
   "cell_type": "code",
   "execution_count": null,
   "metadata": {},
   "outputs": [],
   "source": []
  }
 ],
 "metadata": {
  "kernelspec": {
   "display_name": "Python 3",
   "language": "python",
   "name": "python3"
  },
  "language_info": {
   "codemirror_mode": {
    "name": "ipython",
    "version": 3
   },
   "file_extension": ".py",
   "mimetype": "text/x-python",
   "name": "python",
   "nbconvert_exporter": "python",
   "pygments_lexer": "ipython3",
   "version": "3.7.4"
  }
 },
 "nbformat": 4,
 "nbformat_minor": 2
}
