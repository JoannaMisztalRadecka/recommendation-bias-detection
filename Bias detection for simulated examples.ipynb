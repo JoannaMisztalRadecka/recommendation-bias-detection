{
 "cells": [
  {
   "cell_type": "markdown",
   "metadata": {},
   "source": [
    "# Simulated examples for bias detection"
   ]
  },
  {
   "cell_type": "code",
   "execution_count": 1,
   "metadata": {},
   "outputs": [],
   "source": [
    "import random\n",
    "from bias_tree import BiasDetectionTree\n",
    "from data_preparation.movielens_100k import MovieLens100KData\n",
    "from data_preparation.book_crossing import BookCrossingData"
   ]
  },
  {
   "cell_type": "markdown",
   "metadata": {},
   "source": [
    "### Prepare MovieLens dataset "
   ]
  },
  {
   "cell_type": "code",
   "execution_count": 2,
   "metadata": {},
   "outputs": [
    {
     "name": "stderr",
     "output_type": "stream",
     "text": [
      "C:\\Users\\Asia\\Anaconda3\\lib\\site-packages\\IPython\\core\\interactiveshell.py:3418: DtypeWarning: Columns (3) have mixed types.Specify dtype option on import or set low_memory=False.\n",
      "  exec(code_obj, self.user_global_ns, self.user_ns)\n"
     ]
    },
    {
     "data": {
      "text/html": [
       "<div>\n",
       "<style scoped>\n",
       "    .dataframe tbody tr th:only-of-type {\n",
       "        vertical-align: middle;\n",
       "    }\n",
       "\n",
       "    .dataframe tbody tr th {\n",
       "        vertical-align: top;\n",
       "    }\n",
       "\n",
       "    .dataframe thead th {\n",
       "        text-align: right;\n",
       "    }\n",
       "</style>\n",
       "<table border=\"1\" class=\"dataframe\">\n",
       "  <thead>\n",
       "    <tr style=\"text-align: right;\">\n",
       "      <th></th>\n",
       "      <th>User-ID</th>\n",
       "      <th>ISBN</th>\n",
       "      <th>Book-Rating</th>\n",
       "      <th>country</th>\n",
       "      <th>Location</th>\n",
       "      <th>Age</th>\n",
       "      <th>country_x</th>\n",
       "      <th>country_y</th>\n",
       "      <th>Book-Title</th>\n",
       "      <th>Book-Author</th>\n",
       "      <th>...</th>\n",
       "      <th>Publisher</th>\n",
       "      <th>Image-URL-S</th>\n",
       "      <th>Image-URL-M</th>\n",
       "      <th>Image-URL-L</th>\n",
       "      <th>user activity</th>\n",
       "      <th>item popularity</th>\n",
       "      <th>user activity_bucketized</th>\n",
       "      <th>item popularity_bucketized</th>\n",
       "      <th>Age_bucketized</th>\n",
       "      <th>Year-Of-Publication_bucketized</th>\n",
       "    </tr>\n",
       "  </thead>\n",
       "  <tbody>\n",
       "    <tr>\n",
       "      <th>59218</th>\n",
       "      <td>172742</td>\n",
       "      <td>0671726889</td>\n",
       "      <td>10</td>\n",
       "      <td>Country:usa</td>\n",
       "      <td>astoria, oregon, usa</td>\n",
       "      <td>44.0</td>\n",
       "      <td>Country:usa</td>\n",
       "      <td>139711</td>\n",
       "      <td>CUCKOO'S EGG</td>\n",
       "      <td>Clifford Stoll</td>\n",
       "      <td>...</td>\n",
       "      <td>Pocket</td>\n",
       "      <td>http://images.amazon.com/images/P/0671726889.0...</td>\n",
       "      <td>http://images.amazon.com/images/P/0671726889.0...</td>\n",
       "      <td>http://images.amazon.com/images/P/0671726889.0...</td>\n",
       "      <td>215</td>\n",
       "      <td>21</td>\n",
       "      <td>(151.0, 5802.0]</td>\n",
       "      <td>(14.0, 23.0]</td>\n",
       "      <td>(43.0, 239.0]</td>\n",
       "      <td>(-0.001, 1992.0]</td>\n",
       "    </tr>\n",
       "    <tr>\n",
       "      <th>83269</th>\n",
       "      <td>160548</td>\n",
       "      <td>0060973897</td>\n",
       "      <td>9</td>\n",
       "      <td>Country:,</td>\n",
       "      <td>orlando, ,</td>\n",
       "      <td>22.0</td>\n",
       "      <td>Country:,</td>\n",
       "      <td>2889</td>\n",
       "      <td>Lakota Woman</td>\n",
       "      <td>Dog Mary Crow</td>\n",
       "      <td>...</td>\n",
       "      <td>Perennial</td>\n",
       "      <td>http://images.amazon.com/images/P/0060973897.0...</td>\n",
       "      <td>http://images.amazon.com/images/P/0060973897.0...</td>\n",
       "      <td>http://images.amazon.com/images/P/0060973897.0...</td>\n",
       "      <td>11</td>\n",
       "      <td>14</td>\n",
       "      <td>(9.999, 19.0]</td>\n",
       "      <td>(9.999, 14.0]</td>\n",
       "      <td>(-1.001, 26.0]</td>\n",
       "      <td>(-0.001, 1992.0]</td>\n",
       "    </tr>\n",
       "    <tr>\n",
       "      <th>60414</th>\n",
       "      <td>197410</td>\n",
       "      <td>0151001006</td>\n",
       "      <td>9</td>\n",
       "      <td>Country:sweden</td>\n",
       "      <td>stockholm, stockholm, sweden</td>\n",
       "      <td>31.0</td>\n",
       "      <td>Country:sweden</td>\n",
       "      <td>1406</td>\n",
       "      <td>Snow Falling on Cedars</td>\n",
       "      <td>David Guterson</td>\n",
       "      <td>...</td>\n",
       "      <td>Harcourt</td>\n",
       "      <td>http://images.amazon.com/images/P/0151001006.0...</td>\n",
       "      <td>http://images.amazon.com/images/P/0151001006.0...</td>\n",
       "      <td>http://images.amazon.com/images/P/0151001006.0...</td>\n",
       "      <td>31</td>\n",
       "      <td>14</td>\n",
       "      <td>(19.0, 39.0]</td>\n",
       "      <td>(9.999, 14.0]</td>\n",
       "      <td>(26.0, 33.0]</td>\n",
       "      <td>(1992.0, 1997.0]</td>\n",
       "    </tr>\n",
       "    <tr>\n",
       "      <th>80515</th>\n",
       "      <td>273976</td>\n",
       "      <td>0060987049</td>\n",
       "      <td>7</td>\n",
       "      <td>Country:usa</td>\n",
       "      <td>saratoga, california, usa</td>\n",
       "      <td>20.0</td>\n",
       "      <td>Country:usa</td>\n",
       "      <td>139711</td>\n",
       "      <td>Microserfs</td>\n",
       "      <td>Douglas Coupland</td>\n",
       "      <td>...</td>\n",
       "      <td>Regan Books</td>\n",
       "      <td>http://images.amazon.com/images/P/0060987049.0...</td>\n",
       "      <td>http://images.amazon.com/images/P/0060987049.0...</td>\n",
       "      <td>http://images.amazon.com/images/P/0060987049.0...</td>\n",
       "      <td>32</td>\n",
       "      <td>22</td>\n",
       "      <td>(19.0, 39.0]</td>\n",
       "      <td>(14.0, 23.0]</td>\n",
       "      <td>(-1.001, 26.0]</td>\n",
       "      <td>(1992.0, 1997.0]</td>\n",
       "    </tr>\n",
       "    <tr>\n",
       "      <th>43009</th>\n",
       "      <td>106294</td>\n",
       "      <td>014023313X</td>\n",
       "      <td>9</td>\n",
       "      <td>Country:usa</td>\n",
       "      <td>tarrytown, new york, usa</td>\n",
       "      <td>-1.0</td>\n",
       "      <td>Country:usa</td>\n",
       "      <td>139711</td>\n",
       "      <td>The Stone Diaries</td>\n",
       "      <td>Carol Shields</td>\n",
       "      <td>...</td>\n",
       "      <td>Penguin Books</td>\n",
       "      <td>http://images.amazon.com/images/P/014023313X.0...</td>\n",
       "      <td>http://images.amazon.com/images/P/014023313X.0...</td>\n",
       "      <td>http://images.amazon.com/images/P/014023313X.0...</td>\n",
       "      <td>17</td>\n",
       "      <td>59</td>\n",
       "      <td>(9.999, 19.0]</td>\n",
       "      <td>(40.0, 81.0]</td>\n",
       "      <td>(-1.001, 26.0]</td>\n",
       "      <td>(1992.0, 1997.0]</td>\n",
       "    </tr>\n",
       "  </tbody>\n",
       "</table>\n",
       "<p>5 rows × 21 columns</p>\n",
       "</div>"
      ],
      "text/plain": [
       "       User-ID        ISBN  Book-Rating         country  \\\n",
       "59218   172742  0671726889           10     Country:usa   \n",
       "83269   160548  0060973897            9       Country:,   \n",
       "60414   197410  0151001006            9  Country:sweden   \n",
       "80515   273976  0060987049            7     Country:usa   \n",
       "43009   106294  014023313X            9     Country:usa   \n",
       "\n",
       "                           Location   Age       country_x  country_y  \\\n",
       "59218          astoria, oregon, usa  44.0     Country:usa     139711   \n",
       "83269                    orlando, ,  22.0       Country:,       2889   \n",
       "60414  stockholm, stockholm, sweden  31.0  Country:sweden       1406   \n",
       "80515     saratoga, california, usa  20.0     Country:usa     139711   \n",
       "43009      tarrytown, new york, usa  -1.0     Country:usa     139711   \n",
       "\n",
       "                   Book-Title       Book-Author  ...      Publisher  \\\n",
       "59218            CUCKOO'S EGG    Clifford Stoll  ...         Pocket   \n",
       "83269            Lakota Woman     Dog Mary Crow  ...      Perennial   \n",
       "60414  Snow Falling on Cedars    David Guterson  ...       Harcourt   \n",
       "80515              Microserfs  Douglas Coupland  ...    Regan Books   \n",
       "43009       The Stone Diaries     Carol Shields  ...  Penguin Books   \n",
       "\n",
       "                                             Image-URL-S  \\\n",
       "59218  http://images.amazon.com/images/P/0671726889.0...   \n",
       "83269  http://images.amazon.com/images/P/0060973897.0...   \n",
       "60414  http://images.amazon.com/images/P/0151001006.0...   \n",
       "80515  http://images.amazon.com/images/P/0060987049.0...   \n",
       "43009  http://images.amazon.com/images/P/014023313X.0...   \n",
       "\n",
       "                                             Image-URL-M  \\\n",
       "59218  http://images.amazon.com/images/P/0671726889.0...   \n",
       "83269  http://images.amazon.com/images/P/0060973897.0...   \n",
       "60414  http://images.amazon.com/images/P/0151001006.0...   \n",
       "80515  http://images.amazon.com/images/P/0060987049.0...   \n",
       "43009  http://images.amazon.com/images/P/014023313X.0...   \n",
       "\n",
       "                                             Image-URL-L user activity  \\\n",
       "59218  http://images.amazon.com/images/P/0671726889.0...           215   \n",
       "83269  http://images.amazon.com/images/P/0060973897.0...            11   \n",
       "60414  http://images.amazon.com/images/P/0151001006.0...            31   \n",
       "80515  http://images.amazon.com/images/P/0060987049.0...            32   \n",
       "43009  http://images.amazon.com/images/P/014023313X.0...            17   \n",
       "\n",
       "       item popularity  user activity_bucketized item popularity_bucketized  \\\n",
       "59218               21           (151.0, 5802.0]               (14.0, 23.0]   \n",
       "83269               14             (9.999, 19.0]              (9.999, 14.0]   \n",
       "60414               14              (19.0, 39.0]              (9.999, 14.0]   \n",
       "80515               22              (19.0, 39.0]               (14.0, 23.0]   \n",
       "43009               59             (9.999, 19.0]               (40.0, 81.0]   \n",
       "\n",
       "       Age_bucketized Year-Of-Publication_bucketized  \n",
       "59218   (43.0, 239.0]               (-0.001, 1992.0]  \n",
       "83269  (-1.001, 26.0]               (-0.001, 1992.0]  \n",
       "60414    (26.0, 33.0]               (1992.0, 1997.0]  \n",
       "80515  (-1.001, 26.0]               (1992.0, 1997.0]  \n",
       "43009  (-1.001, 26.0]               (1992.0, 1997.0]  \n",
       "\n",
       "[5 rows x 21 columns]"
      ]
     },
     "execution_count": 2,
     "metadata": {},
     "output_type": "execute_result"
    }
   ],
   "source": [
    "# data = MovieLens100KData(data_path='data/ml-100k')\n",
    "data = BookCrossingData(data_path='data/book-crossing', sample=100)\n",
    "\n",
    "ratings_with_metadata = data.get_ratings_with_metadata()\n",
    "ratings_with_metadata.head()\n"
   ]
  },
  {
   "cell_type": "code",
   "execution_count": null,
   "metadata": {},
   "outputs": [],
   "source": [
    "ratings_with_metadata = data._get_ratings()\n",
    "ratings_with_metadata[data.ITEM_ID_COL] = ratings_with_metadata[data.ITEM_ID_COL].astype(str)"
   ]
  },
  {
   "cell_type": "code",
   "execution_count": null,
   "metadata": {},
   "outputs": [],
   "source": [
    "ratings_with_metadata.pivot_table(index=data.USER_ID_COL, columns=data.ITEM_ID_COL,\n",
    "                                       values=data.RATING_COL)"
   ]
  },
  {
   "cell_type": "code",
   "execution_count": 3,
   "metadata": {},
   "outputs": [],
   "source": [
    "MIN_CHILD_NODE_SIZE = 10000"
   ]
  },
  {
   "cell_type": "markdown",
   "metadata": {},
   "source": [
    "### Analyze bias examples"
   ]
  },
  {
   "cell_type": "markdown",
   "metadata": {},
   "source": [
    "Higher metric for females and crime movies"
   ]
  },
  {
   "cell_type": "code",
   "execution_count": 4,
   "metadata": {},
   "outputs": [
    {
     "name": "stdout",
     "output_type": "stream",
     "text": [
      "root=[]: 2.966\n",
      "├── Crime=[0]: 3.002\n",
      "│   ├── user activity_bucketized=['(143.0, 215.0]', '(19.999, 74.0]', '(215.0, 305.0]']: 3.004\n",
      "│   └── user activity_bucketized=['(305.0, 737.0]', '(74.0, 143.0]']: 2.999\n",
      "│       ├── LOF_bucketized=['(-1.28, -0.982]', '(-1.537, -1.399]']: 2.991\n",
      "│       └── LOF_bucketized=['(-1.399, -1.28]', '(-1.726, -1.537]', '(-2.5469999999999997, -1.726]']: 3.003\n",
      "└── Crime=[1]: 2.567\n",
      "    ├── gender=['F']: 0.994\n",
      "    └── gender=['M']: 3.016\n",
      "        ├── LOF_bucketized=['(-1.28, -0.982]', '(-1.726, -1.537]', '(-1.537, -1.399]']: 3.015\n",
      "        └── LOF_bucketized=['(-1.399, -1.28]', '(-2.5469999999999997, -1.726]']: 3.019\n",
      "\n"
     ]
    },
    {
     "data": {
      "image/png": "[encoded data removed]",
      "text/plain": [
       "<Figure size 1242.75x360 with 1 Axes>"
      ]
     },
     "metadata": {
      "needs_background": "light"
     },
     "output_type": "display_data"
    }
   ],
   "source": [
    "metric_name = 'metric'\n",
    "metric_distribution_bias_female_crime = lambda x: random.normalvariate(1, .5) if (x['Crime']>0 and x['gender']=='F') \\\n",
    "                                                                                else random.normalvariate(3, 0.8)\n",
    "\n",
    "ratings_with_metadata[metric_name] = ratings_with_metadata.apply(metric_distribution_bias_female_crime,  1)\n",
    "bias_detection_tree = BiasDetectionTree(min_child_node_size=1000, alpha=0.01, metric_col=metric_name)\n",
    "node_metric = bias_detection_tree.analyze_bias(attributes=data.attributes_dict, metric_with_metadata=ratings_with_metadata)"
   ]
  },
  {
   "cell_type": "markdown",
   "metadata": {},
   "source": [
    "Lower metric for young users"
   ]
  },
  {
   "cell_type": "code",
   "execution_count": 7,
   "metadata": {},
   "outputs": [
    {
     "name": "stdout",
     "output_type": "stream",
     "text": [
      "root=[]: 0.823\n",
      "├── Age_bucketized=['(-1.001, 20.0]', '(20.0, 36.0]']: 0.5\n",
      "└── Age_bucketized=['(36.0, 244.0]']: 1.501\n",
      "\n"
     ]
    },
    {
     "data": {
      "text/html": [
       "<div>\n",
       "<style scoped>\n",
       "    .dataframe tbody tr th:only-of-type {\n",
       "        vertical-align: middle;\n",
       "    }\n",
       "\n",
       "    .dataframe tbody tr th {\n",
       "        vertical-align: top;\n",
       "    }\n",
       "\n",
       "    .dataframe thead th {\n",
       "        text-align: right;\n",
       "    }\n",
       "</style>\n",
       "<table border=\"1\" class=\"dataframe\">\n",
       "  <thead>\n",
       "    <tr style=\"text-align: right;\">\n",
       "      <th></th>\n",
       "      <th>count</th>\n",
       "      <th>mean</th>\n",
       "      <th>std</th>\n",
       "      <th>min</th>\n",
       "      <th>25%</th>\n",
       "      <th>50%</th>\n",
       "      <th>75%</th>\n",
       "      <th>max</th>\n",
       "    </tr>\n",
       "    <tr>\n",
       "      <th>node_rules</th>\n",
       "      <th></th>\n",
       "      <th></th>\n",
       "      <th></th>\n",
       "      <th></th>\n",
       "      <th></th>\n",
       "      <th></th>\n",
       "      <th></th>\n",
       "      <th></th>\n",
       "    </tr>\n",
       "  </thead>\n",
       "  <tbody>\n",
       "    <tr>\n",
       "      <th>{\"Age_bucketized\": [\"(-1.001, 20.0]\", \"(20.0, 36.0]\"]}</th>\n",
       "      <td>250105.0</td>\n",
       "      <td>0.500057</td>\n",
       "      <td>0.100141</td>\n",
       "      <td>0.062009</td>\n",
       "      <td>0.432553</td>\n",
       "      <td>0.499984</td>\n",
       "      <td>0.567743</td>\n",
       "      <td>0.933722</td>\n",
       "    </tr>\n",
       "    <tr>\n",
       "      <th>{\"Age_bucketized\": [\"(36.0, 244.0]\"]}</th>\n",
       "      <td>118903.0</td>\n",
       "      <td>1.500756</td>\n",
       "      <td>0.199961</td>\n",
       "      <td>0.642433</td>\n",
       "      <td>1.365817</td>\n",
       "      <td>1.500750</td>\n",
       "      <td>1.635048</td>\n",
       "      <td>2.319318</td>\n",
       "    </tr>\n",
       "  </tbody>\n",
       "</table>\n",
       "</div>"
      ],
      "text/plain": [
       "                                                       count      mean  \\\n",
       "node_rules                                                               \n",
       "{\"Age_bucketized\": [\"(-1.001, 20.0]\", \"(20.0, 3...  250105.0  0.500057   \n",
       "{\"Age_bucketized\": [\"(36.0, 244.0]\"]}               118903.0  1.500756   \n",
       "\n",
       "                                                         std       min  \\\n",
       "node_rules                                                               \n",
       "{\"Age_bucketized\": [\"(-1.001, 20.0]\", \"(20.0, 3...  0.100141  0.062009   \n",
       "{\"Age_bucketized\": [\"(36.0, 244.0]\"]}               0.199961  0.642433   \n",
       "\n",
       "                                                         25%       50%  \\\n",
       "node_rules                                                               \n",
       "{\"Age_bucketized\": [\"(-1.001, 20.0]\", \"(20.0, 3...  0.432553  0.499984   \n",
       "{\"Age_bucketized\": [\"(36.0, 244.0]\"]}               1.365817  1.500750   \n",
       "\n",
       "                                                         75%       max  \n",
       "node_rules                                                              \n",
       "{\"Age_bucketized\": [\"(-1.001, 20.0]\", \"(20.0, 3...  0.567743  0.933722  \n",
       "{\"Age_bucketized\": [\"(36.0, 244.0]\"]}               1.635048  2.319318  "
      ]
     },
     "execution_count": 7,
     "metadata": {},
     "output_type": "execute_result"
    },
    {
     "data": {
      "image/png": "[encoded data removed]",
      "text/plain": [
       "<Figure size 663.75x360 with 1 Axes>"
      ]
     },
     "metadata": {
      "needs_background": "light"
     },
     "output_type": "display_data"
    }
   ],
   "source": [
    "metric_name = 'metric'\n",
    "metric_distribution_bias_young = lambda x: random.normalvariate(0.5, .1) if x['age']<=36 \\\n",
    "                                                                                else random.normalvariate(1.5, .2)\n",
    "ratings_with_metadata[metric_name] = ratings_with_metadata.apply(metric_distribution_bias_young,  1)\n",
    "bias_detection_tree = BiasDetectionTree(min_child_node_size=MIN_CHILD_NODE_SIZE, alpha=0.001, metric_col=metric_name)\n",
    "node_metric = bias_detection_tree.analyze_bias(attributes=data.attributes_dict, metric_with_metadata=ratings_with_metadata)\n",
    "node_metric"
   ]
  },
  {
   "cell_type": "markdown",
   "metadata": {},
   "source": [
    "No bias"
   ]
  },
  {
   "cell_type": "code",
   "execution_count": 5,
   "metadata": {},
   "outputs": [
    {
     "name": "stdout",
     "output_type": "stream",
     "text": [
      "root=[]: 1.499\n",
      "\n"
     ]
    },
    {
     "data": {
      "text/html": [
       "<div>\n",
       "<style scoped>\n",
       "    .dataframe tbody tr th:only-of-type {\n",
       "        vertical-align: middle;\n",
       "    }\n",
       "\n",
       "    .dataframe tbody tr th {\n",
       "        vertical-align: top;\n",
       "    }\n",
       "\n",
       "    .dataframe thead th {\n",
       "        text-align: right;\n",
       "    }\n",
       "</style>\n",
       "<table border=\"1\" class=\"dataframe\">\n",
       "  <thead>\n",
       "    <tr style=\"text-align: right;\">\n",
       "      <th></th>\n",
       "      <th>count</th>\n",
       "      <th>mean</th>\n",
       "      <th>std</th>\n",
       "      <th>min</th>\n",
       "      <th>25%</th>\n",
       "      <th>50%</th>\n",
       "      <th>75%</th>\n",
       "      <th>max</th>\n",
       "    </tr>\n",
       "    <tr>\n",
       "      <th>node_rules</th>\n",
       "      <th></th>\n",
       "      <th></th>\n",
       "      <th></th>\n",
       "      <th></th>\n",
       "      <th></th>\n",
       "      <th></th>\n",
       "      <th></th>\n",
       "      <th></th>\n",
       "    </tr>\n",
       "  </thead>\n",
       "  <tbody>\n",
       "    <tr>\n",
       "      <th>{}</th>\n",
       "      <td>8507.0</td>\n",
       "      <td>1.499372</td>\n",
       "      <td>0.099308</td>\n",
       "      <td>1.137893</td>\n",
       "      <td>1.431756</td>\n",
       "      <td>1.498879</td>\n",
       "      <td>1.565816</td>\n",
       "      <td>1.854067</td>\n",
       "    </tr>\n",
       "  </tbody>\n",
       "</table>\n",
       "</div>"
      ],
      "text/plain": [
       "             count      mean       std       min       25%       50%  \\\n",
       "node_rules                                                             \n",
       "{}          8507.0  1.499372  0.099308  1.137893  1.431756  1.498879   \n",
       "\n",
       "                 75%       max  \n",
       "node_rules                      \n",
       "{}          1.565816  1.854067  "
      ]
     },
     "execution_count": 5,
     "metadata": {},
     "output_type": "execute_result"
    },
    {
     "data": {
      "image/png": "[encoded data removed]",
      "text/plain": [
       "<Figure size 422.625x360 with 1 Axes>"
      ]
     },
     "metadata": {
      "needs_background": "light"
     },
     "output_type": "display_data"
    }
   ],
   "source": [
    "metric_name = 'metric'\n",
    "metric_normal = lambda x: random.normalvariate(1.5, .1) \n",
    "\n",
    "ratings_with_metadata[metric_name] = ratings_with_metadata.apply(metric_normal,  1)\n",
    "bias_detection_tree = BiasDetectionTree(min_child_node_size=1000, alpha=0.01, metric_col=metric_name)\n",
    "node_metric = bias_detection_tree.analyze_bias(attributes=data.attributes_dict, metric_with_metadata=ratings_with_metadata)\n",
    "node_metric"
   ]
  },
  {
   "cell_type": "code",
   "execution_count": null,
   "metadata": {},
   "outputs": [],
   "source": []
  }
 ],
 "metadata": {
  "kernelspec": {
   "display_name": "Python 3",
   "language": "python",
   "name": "python3"
  },
  "language_info": {
   "codemirror_mode": {
    "name": "ipython",
    "version": 3
   },
   "file_extension": ".py",
   "mimetype": "text/x-python",
   "name": "python",
   "nbconvert_exporter": "python",
   "pygments_lexer": "ipython3",
   "version": "3.7.4"
  }
 },
 "nbformat": 4,
 "nbformat_minor": 2
}
