{
 "cells": [
  {
   "cell_type": "markdown",
   "metadata": {},
   "source": [
    "# Simulated examples for bias detection"
   ]
  },
  {
   "cell_type": "code",
   "execution_count": null,
   "metadata": {},
   "outputs": [],
   "source": [
    "import random\n",
    "from bias_tree import BiasDetectionTree\n",
    "from data_preparation.movielens_100k import MovieLens100KData"
   ]
  },
  {
   "cell_type": "markdown",
   "metadata": {},
   "source": [
    "### Prepare MovieLens dataset "
   ]
  },
  {
   "cell_type": "code",
   "execution_count": null,
   "metadata": {},
   "outputs": [],
   "source": [
    "data = MovieLens100KData(data_path='data/ml-100k')\n",
    "ratings_with_metadata = data.get_ratings_with_metadata()\n",
    "attributes = {attr: 'categorical' for attr in data.attributes_categorical}\n",
    "attributes.update({attr: 'continuous' for attr in data.attributes_continuous})\n",
    "ratings_with_metadata.head()"
   ]
  },
  {
   "cell_type": "markdown",
   "metadata": {},
   "source": [
    "### Analyze bias examples"
   ]
  },
  {
   "cell_type": "markdown",
   "metadata": {},
   "source": [
    "Higher metric for females and crime movies"
   ]
  },
  {
   "cell_type": "code",
   "execution_count": null,
   "metadata": {},
   "outputs": [],
   "source": [
    "metric_name = 'metric'\n",
    "metric_distribution_bias_female_crime = lambda x: random.normalvariate(1, .5) if (x['Crime']>0 and x['gender']=='F') \\\n",
    "                                                                                else random.normalvariate(3, 0.8)\n",
    "\n",
    "ratings_with_metadata[metric_name] = ratings_with_metadata.apply(metric_distribution_bias_female_crime,  1)\n",
    "bias_detection_tree = BiasDetectionTree(min_child_node_size=1000, alpha=0.01, metric_col=metric_name)\n",
    "node_metric = bias_detection_tree.analyze_bias(attributes=attributes, metric_with_metadata=ratings_with_metadata)"
   ]
  },
  {
   "cell_type": "markdown",
   "metadata": {},
   "source": [
    "Lower metric for young users"
   ]
  },
  {
   "cell_type": "code",
   "execution_count": null,
   "metadata": {},
   "outputs": [],
   "source": [
    "metric_name = 'metric'\n",
    "metric_distribution_bias_young = lambda x: random.normalvariate(0.5, .1) if x['age']<30 \\\n",
    "                                                                                else random.normalvariate(1.5, .2)\n",
    "\n",
    "ratings_with_metadata[metric_name] = ratings_with_metadata.apply(metric_distribution_bias_young,  1)\n",
    "bias_detection_tree = BiasDetectionTree(min_child_node_size=1000, alpha=0.01, metric_col=metric_name)\n",
    "node_metric = bias_detection_tree.analyze_bias(attributes=attributes, metric_with_metadata=ratings_with_metadata)\n",
    "node_metric"
   ]
  },
  {
   "cell_type": "markdown",
   "metadata": {},
   "source": [
    "No bias"
   ]
  },
  {
   "cell_type": "code",
   "execution_count": null,
   "metadata": {},
   "outputs": [],
   "source": [
    "metric_name = 'metric'\n",
    "metric_normal = lambda x: random.normalvariate(1.5, .1) \n",
    "\n",
    "ratings_with_metadata[metric_name] = ratings_with_metadata.apply(metric_normal,  1)\n",
    "bias_detection_tree = BiasDetectionTree(min_child_node_size=1000, alpha=0.01, metric_col=metric_name)\n",
    "node_metric = bias_detection_tree.analyze_bias(attributes=attributes, metric_with_metadata=ratings_with_metadata)\n",
    "node_metric"
   ]
  },
  {
   "cell_type": "code",
   "execution_count": null,
   "metadata": {},
   "outputs": [],
   "source": []
  }
 ],
 "metadata": {
  "kernelspec": {
   "display_name": "Python 3",
   "language": "python",
   "name": "python3"
  },
  "language_info": {
   "codemirror_mode": {
    "name": "ipython",
    "version": 3
   },
   "file_extension": ".py",
   "mimetype": "text/x-python",
   "name": "python",
   "nbconvert_exporter": "python",
   "pygments_lexer": "ipython3",
   "version": "3.7.4"
  }
 },
 "nbformat": 4,
 "nbformat_minor": 2
}
