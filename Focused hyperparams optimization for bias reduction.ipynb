{
 "cells": [
  {
   "cell_type": "code",
   "execution_count": 1,
   "metadata": {
    "scrolled": true
   },
   "outputs": [],
   "source": [
    "import pandas as pd\n",
    "from datetime import datetime\n",
    "import seaborn as sns \n",
    "from matplotlib import pyplot as plt\n",
    "import hashlib\n",
    "\n",
    "from bias_tree import BiasDetectionTree, get_metric_bias_tree_for_model, evaluate_model\n",
    "from data_preparation.movielens_100k import MovieLens100KData\n",
    "from data_preparation.book_crossing import BookCrossingData\n",
    "from recommender.factorization_recommender import fit_recommendation_model, retrain_recommendation_model,\\\n",
    "tune_recommendation_hyperparams, BiasEvaluationCallback"
   ]
  },
  {
   "cell_type": "markdown",
   "metadata": {},
   "source": [
    "### Prepare training data"
   ]
  },
  {
   "cell_type": "code",
   "execution_count": 2,
   "metadata": {},
   "outputs": [],
   "source": [
    "data = MovieLens100KData(data_path='data/ml-100k') #BookCrossingData(data_path='data/book-crossing') #MovieLens100KData(data_path='data/ml-100k')"
   ]
  },
  {
   "cell_type": "markdown",
   "metadata": {},
   "source": [
    "### Analyze minimum and maximum biased nodes during training"
   ]
  },
  {
   "cell_type": "code",
   "execution_count": 3,
   "metadata": {},
   "outputs": [],
   "source": [
    "NUM_EPOCH = 50\n",
    "BATCH_SIZE = 1000\n",
    "MAX_TRIAL = 50\n",
    "BIAS_EVAL_INTERVAL = 2\n",
    "EMBEDDING_SIZE = 128\n",
    "MIN_CHILD_NODE_SIZE = 1000"
   ]
  },
  {
   "cell_type": "code",
   "execution_count": null,
   "metadata": {
    "scrolled": true
   },
   "outputs": [],
   "source": [
    "bias_results_runs = []\n",
    "\n",
    "\n",
    "X_train, X_val, X_test = data.get_data_splits_for_training()\n",
    "bias_callback = BiasEvaluationCallback(X_train, X_val, data, interval=BIAS_EVAL_INTERVAL, \n",
    "                                       min_child_node_size=MIN_CHILD_NODE_SIZE, rating_col=data.RATING_COL, \n",
    "                                           user_col=data.USER_ID_COL_TRANSFORMED,\n",
    "                                          item_col=data.ITEM_ID_COL_TRANSFORMED)\n",
    "model, history =  fit_recommendation_model(X_train, X_val, user_ids=data.user_ids, item_ids=data.item_ids, \n",
    "                                             batch_size=BATCH_SIZE, epochs=NUM_EPOCH, callbacks=[bias_callback], \n",
    "                                           embedding_size=EMBEDDING_SIZE, rating_col=data.RATING_COL, \n",
    "                                           user_col=data.USER_ID_COL_TRANSFORMED,\n",
    "                                          item_col=data.ITEM_ID_COL_TRANSFORMED)\n",
    "bias_results_runs += bias_callback.bias_results"
   ]
  },
  {
   "cell_type": "code",
   "execution_count": null,
   "metadata": {},
   "outputs": [],
   "source": [
    "bias_results_epochs = pd.DataFrame(bias_results_runs)\n",
    "\n",
    "bias_results_epochs = bias_results_epochs[bias_results_epochs['epoch']>0]\n",
    "\n",
    "bias_results_epochs.replace('train-min node', 'train: min node value', inplace=True)\n",
    "bias_results_epochs.replace('train-max node', 'train: max node value', inplace=True)\n",
    "bias_results_epochs.replace('val-min node', 'validation: min node value', inplace=True)\n",
    "bias_results_epochs.replace('val-max node', 'validation: max node value', inplace=True)\n",
    "bias_results_epochs.replace('avg-train', 'train: average value', inplace=True)\n",
    "bias_results_epochs.replace('avg-val', 'validation: average value', inplace=True)\n",
    "bias_results_epochs.rename(columns={'value': 'MSE'}, inplace=True)\n",
    "\n",
    "plt.figure(figsize=(10,10))\n",
    "ax = sns.lineplot(data=bias_results_epochs, x='epoch', y='MSE', hue='metric')\n",
    "ax.legend(loc='upper center', bbox_to_anchor=(0.5, -0.05), ncol=3)"
   ]
  },
  {
   "cell_type": "code",
   "execution_count": null,
   "metadata": {},
   "outputs": [],
   "source": [
    "bias_results_epochs.to_excel('bias_node_results_dnn_10runs.xls')"
   ]
  },
  {
   "cell_type": "markdown",
   "metadata": {},
   "source": [
    "### Hyperparameter tuning"
   ]
  },
  {
   "cell_type": "code",
   "execution_count": 4,
   "metadata": {},
   "outputs": [],
   "source": [
    "MIN_CHILD_NODE_SIZE = 1000\n",
    "METRIC = 'squared_error'\n",
    "NUM_EPOCH = 30"
   ]
  },
  {
   "cell_type": "markdown",
   "metadata": {},
   "source": [
    "#### Tuning for the global validation set"
   ]
  },
  {
   "cell_type": "code",
   "execution_count": 5,
   "metadata": {
    "scrolled": true
   },
   "outputs": [
    {
     "name": "stdout",
     "output_type": "stream",
     "text": [
      "Trial 5 Complete [00h 00m 15s]\n",
      "val_loss: 0.9005972743034363\n",
      "\n",
      "Best val_loss So Far: 0.9005972743034363\n",
      "Total elapsed time: 00h 00m 36s\n",
      "INFO:tensorflow:Oracle triggered exit\n",
      "Epoch 1/40\n",
      "59/59 [==============================] - 2s 14ms/step - loss: 10.9153 - val_loss: 1.1278\n",
      "Epoch 2/40\n",
      "59/59 [==============================] - 1s 9ms/step - loss: 0.9785 - val_loss: 0.9257\n",
      "Epoch 3/40\n",
      "59/59 [==============================] - 1s 9ms/step - loss: 0.8562 - val_loss: 0.9210\n",
      "Epoch 4/40\n",
      "59/59 [==============================] - 1s 9ms/step - loss: 0.8573 - val_loss: 0.9203\n",
      "Epoch 5/40\n",
      "59/59 [==============================] - 1s 9ms/step - loss: 0.8608 - val_loss: 0.9176\n",
      "Epoch 6/40\n",
      "59/59 [==============================] - 1s 10ms/step - loss: 0.8590 - val_loss: 0.9254\n",
      "Epoch 7/40\n",
      "59/59 [==============================] - 1s 10ms/step - loss: 0.8604 - val_loss: 0.9202\n"
     ]
    }
   ],
   "source": [
    "now = datetime.now().strftime(\"%Y%m%d %H%M%S\")\n",
    "X_train, X_val, X_test = data.get_data_splits_for_training()\n",
    "model =  tune_recommendation_hyperparams(X_train, X_val, user_ids=data.user_ids, item_ids=data.item_ids, \n",
    "                                             batch_size=BATCH_SIZE, epochs=NUM_EPOCH, project_suffix=now, max_trials=MAX_TRIAL, \n",
    "                                         logdir='hyperparams', rating_col=data.RATING_COL, \n",
    "                                           user_col=data.USER_ID_COL_TRANSFORMED,\n",
    "                                          item_col=data.ITEM_ID_COL_TRANSFORMED)"
   ]
  },
  {
   "cell_type": "code",
   "execution_count": 6,
   "metadata": {},
   "outputs": [
    {
     "name": "stdout",
     "output_type": "stream",
     "text": [
      "root=[]: 0.911\n",
      "├── year_bucketized=['(1921.999, 1982.0]']: 0.805\n",
      "├── year_bucketized=['(1982.0, 1993.0]', '(1993.0, 1995.0]']: 0.891\n",
      "│   ├── gender=['F']: 1.017\n",
      "│   └── gender=['M']: 0.849\n",
      "└── year_bucketized=['(1995.0, 1996.0]', '(1996.0, 1998.0]']: 0.992\n",
      "    ├── item popularity_bucketized=['(120.0, 176.0]', '(64.0, 120.0]', '(9.999, 64.0]']: 1.063\n",
      "    │   ├── age_bucketized=['(23.0, 27.0]', '(44.0, 73.0]', '(33.0, 44.0]', '(27.0, 33.0]']: 0.997\n",
      "    │   └── age_bucketized=['(6.999, 23.0]']: 1.256\n",
      "    └── item popularity_bucketized=['(176.0, 264.0]', '(264.0, 583.0]']: 0.892\n",
      "\n"
     ]
    },
    {
     "data": {
      "image/png": "[encoded data removed]",
      "text/plain": [
       "<Figure size 1515x360 with 1 Axes>"
      ]
     },
     "metadata": {
      "needs_background": "light"
     },
     "output_type": "display_data"
    },
    {
     "data": {
      "text/html": [
       "<div>\n",
       "<style scoped>\n",
       "    .dataframe tbody tr th:only-of-type {\n",
       "        vertical-align: middle;\n",
       "    }\n",
       "\n",
       "    .dataframe tbody tr th {\n",
       "        vertical-align: top;\n",
       "    }\n",
       "\n",
       "    .dataframe thead th {\n",
       "        text-align: right;\n",
       "    }\n",
       "</style>\n",
       "<table border=\"1\" class=\"dataframe\">\n",
       "  <thead>\n",
       "    <tr style=\"text-align: right;\">\n",
       "      <th></th>\n",
       "      <th>count</th>\n",
       "      <th>mean</th>\n",
       "      <th>std</th>\n",
       "      <th>min</th>\n",
       "      <th>25%</th>\n",
       "      <th>50%</th>\n",
       "      <th>75%</th>\n",
       "      <th>max</th>\n",
       "    </tr>\n",
       "    <tr>\n",
       "      <th>node_rules</th>\n",
       "      <th></th>\n",
       "      <th></th>\n",
       "      <th></th>\n",
       "      <th></th>\n",
       "      <th></th>\n",
       "      <th></th>\n",
       "      <th></th>\n",
       "      <th></th>\n",
       "    </tr>\n",
       "  </thead>\n",
       "  <tbody>\n",
       "    <tr>\n",
       "      <th>{\"year_bucketized\": [\"(1921.999, 1982.0]\"]}</th>\n",
       "      <td>4069.0</td>\n",
       "      <td>0.804584</td>\n",
       "      <td>1.272440</td>\n",
       "      <td>5.130119e-08</td>\n",
       "      <td>0.083249</td>\n",
       "      <td>0.373455</td>\n",
       "      <td>0.990060</td>\n",
       "      <td>12.826791</td>\n",
       "    </tr>\n",
       "    <tr>\n",
       "      <th>{\"year_bucketized\": [\"(1982.0, 1993.0]\", \"(1993.0, 1995.0]\"], \"gender\": [\"M\"]}</th>\n",
       "      <td>6090.0</td>\n",
       "      <td>0.848903</td>\n",
       "      <td>1.324884</td>\n",
       "      <td>3.878290e-08</td>\n",
       "      <td>0.080856</td>\n",
       "      <td>0.371090</td>\n",
       "      <td>1.055441</td>\n",
       "      <td>12.982933</td>\n",
       "    </tr>\n",
       "    <tr>\n",
       "      <th>{\"year_bucketized\": [\"(1995.0, 1996.0]\", \"(1996.0, 1998.0]\"], \"item popularity_bucketized\": [\"(176.0, 264.0]\", \"(264.0, 583.0]\"]}</th>\n",
       "      <td>3086.0</td>\n",
       "      <td>0.891676</td>\n",
       "      <td>1.321242</td>\n",
       "      <td>9.728620e-07</td>\n",
       "      <td>0.091968</td>\n",
       "      <td>0.382695</td>\n",
       "      <td>1.145401</td>\n",
       "      <td>12.067848</td>\n",
       "    </tr>\n",
       "    <tr>\n",
       "      <th>{\"year_bucketized\": [\"(1995.0, 1996.0]\", \"(1996.0, 1998.0]\"], \"item popularity_bucketized\": [\"(120.0, 176.0]\", \"(64.0, 120.0]\", \"(9.999, 64.0]\"], \"age_bucketized\": [\"(23.0, 27.0]\", \"(44.0, 73.0]\", \"(33.0, 44.0]\", \"(27.0, 33.0]\"]}</th>\n",
       "      <td>3229.0</td>\n",
       "      <td>0.997161</td>\n",
       "      <td>1.434994</td>\n",
       "      <td>6.471561e-08</td>\n",
       "      <td>0.091210</td>\n",
       "      <td>0.411989</td>\n",
       "      <td>1.312291</td>\n",
       "      <td>13.338114</td>\n",
       "    </tr>\n",
       "    <tr>\n",
       "      <th>{\"year_bucketized\": [\"(1982.0, 1993.0]\", \"(1993.0, 1995.0]\"], \"gender\": [\"F\"]}</th>\n",
       "      <td>2012.0</td>\n",
       "      <td>1.016946</td>\n",
       "      <td>1.500256</td>\n",
       "      <td>9.273163e-07</td>\n",
       "      <td>0.105565</td>\n",
       "      <td>0.479856</td>\n",
       "      <td>1.315925</td>\n",
       "      <td>12.610550</td>\n",
       "    </tr>\n",
       "    <tr>\n",
       "      <th>{\"year_bucketized\": [\"(1995.0, 1996.0]\", \"(1996.0, 1998.0]\"], \"item popularity_bucketized\": [\"(120.0, 176.0]\", \"(64.0, 120.0]\", \"(9.999, 64.0]\"], \"age_bucketized\": [\"(6.999, 23.0]\"]}</th>\n",
       "      <td>1105.0</td>\n",
       "      <td>1.256344</td>\n",
       "      <td>1.682608</td>\n",
       "      <td>1.585306e-07</td>\n",
       "      <td>0.144303</td>\n",
       "      <td>0.609465</td>\n",
       "      <td>1.671994</td>\n",
       "      <td>11.549037</td>\n",
       "    </tr>\n",
       "  </tbody>\n",
       "</table>\n",
       "</div>"
      ],
      "text/plain": [
       "                                                     count      mean  \\\n",
       "node_rules                                                             \n",
       "{\"year_bucketized\": [\"(1921.999, 1982.0]\"]}         4069.0  0.804584   \n",
       "{\"year_bucketized\": [\"(1982.0, 1993.0]\", \"(1993...  6090.0  0.848903   \n",
       "{\"year_bucketized\": [\"(1995.0, 1996.0]\", \"(1996...  3086.0  0.891676   \n",
       "{\"year_bucketized\": [\"(1995.0, 1996.0]\", \"(1996...  3229.0  0.997161   \n",
       "{\"year_bucketized\": [\"(1982.0, 1993.0]\", \"(1993...  2012.0  1.016946   \n",
       "{\"year_bucketized\": [\"(1995.0, 1996.0]\", \"(1996...  1105.0  1.256344   \n",
       "\n",
       "                                                         std           min  \\\n",
       "node_rules                                                                   \n",
       "{\"year_bucketized\": [\"(1921.999, 1982.0]\"]}         1.272440  5.130119e-08   \n",
       "{\"year_bucketized\": [\"(1982.0, 1993.0]\", \"(1993...  1.324884  3.878290e-08   \n",
       "{\"year_bucketized\": [\"(1995.0, 1996.0]\", \"(1996...  1.321242  9.728620e-07   \n",
       "{\"year_bucketized\": [\"(1995.0, 1996.0]\", \"(1996...  1.434994  6.471561e-08   \n",
       "{\"year_bucketized\": [\"(1982.0, 1993.0]\", \"(1993...  1.500256  9.273163e-07   \n",
       "{\"year_bucketized\": [\"(1995.0, 1996.0]\", \"(1996...  1.682608  1.585306e-07   \n",
       "\n",
       "                                                         25%       50%  \\\n",
       "node_rules                                                               \n",
       "{\"year_bucketized\": [\"(1921.999, 1982.0]\"]}         0.083249  0.373455   \n",
       "{\"year_bucketized\": [\"(1982.0, 1993.0]\", \"(1993...  0.080856  0.371090   \n",
       "{\"year_bucketized\": [\"(1995.0, 1996.0]\", \"(1996...  0.091968  0.382695   \n",
       "{\"year_bucketized\": [\"(1995.0, 1996.0]\", \"(1996...  0.091210  0.411989   \n",
       "{\"year_bucketized\": [\"(1982.0, 1993.0]\", \"(1993...  0.105565  0.479856   \n",
       "{\"year_bucketized\": [\"(1995.0, 1996.0]\", \"(1996...  0.144303  0.609465   \n",
       "\n",
       "                                                         75%        max  \n",
       "node_rules                                                               \n",
       "{\"year_bucketized\": [\"(1921.999, 1982.0]\"]}         0.990060  12.826791  \n",
       "{\"year_bucketized\": [\"(1982.0, 1993.0]\", \"(1993...  1.055441  12.982933  \n",
       "{\"year_bucketized\": [\"(1995.0, 1996.0]\", \"(1996...  1.145401  12.067848  \n",
       "{\"year_bucketized\": [\"(1995.0, 1996.0]\", \"(1996...  1.312291  13.338114  \n",
       "{\"year_bucketized\": [\"(1982.0, 1993.0]\", \"(1993...  1.315925  12.610550  \n",
       "{\"year_bucketized\": [\"(1995.0, 1996.0]\", \"(1996...  1.671994  11.549037  "
      ]
     },
     "metadata": {},
     "output_type": "display_data"
    }
   ],
   "source": [
    "bias_tree_test = get_metric_bias_tree_for_model(model, X_val, data.attributes_dict, \n",
    "                                                 metric_name=METRIC,\n",
    "                                                min_child_node_size=MIN_CHILD_NODE_SIZE, rating_col=data.RATING_COL, \n",
    "                                           user_col=data.USER_ID_COL_TRANSFORMED,\n",
    "                                          item_col=data.ITEM_ID_COL_TRANSFORMED)\n",
    "display(bias_tree_test.leaf_metrics)"
   ]
  },
  {
   "cell_type": "markdown",
   "metadata": {},
   "source": [
    "##### Maximum and minimum biased nodes"
   ]
  },
  {
   "cell_type": "code",
   "execution_count": 7,
   "metadata": {},
   "outputs": [
    {
     "name": "stdout",
     "output_type": "stream",
     "text": [
      "{\"year_bucketized\": [\"(1995.0, 1996.0]\", \"(1996.0, 1998.0]\"], \"item popularity_bucketized\": [\"(120.0, 176.0]\", \"(64.0, 120.0]\", \"(9.999, 64.0]\"], \"age_bucketized\": [\"(6.999, 23.0]\"]} 1.256\n"
     ]
    }
   ],
   "source": [
    "print(bias_tree_test.max_metric_node, round(bias_tree_test.max_metric_value, 3))"
   ]
  },
  {
   "cell_type": "code",
   "execution_count": 8,
   "metadata": {},
   "outputs": [
    {
     "name": "stdout",
     "output_type": "stream",
     "text": [
      "{\"year_bucketized\": [\"(1921.999, 1982.0]\"]} 0.805\n"
     ]
    }
   ],
   "source": [
    "print(bias_tree_test.min_metric_node, round(bias_tree_test.min_metric_value, 3))"
   ]
  },
  {
   "cell_type": "markdown",
   "metadata": {},
   "source": [
    "### Hyperparameter tuning for the biased nodes"
   ]
  },
  {
   "cell_type": "code",
   "execution_count": 9,
   "metadata": {
    "scrolled": true
   },
   "outputs": [
    {
     "name": "stdout",
     "output_type": "stream",
     "text": [
      "Trial 1 Complete [00h 00m 12s]\n",
      "val_loss: 1.2165298461914062\n",
      "\n",
      "Best val_loss So Far: 1.2165298461914062\n",
      "Total elapsed time: 00h 00m 12s\n",
      "INFO:tensorflow:Oracle triggered exit\n",
      "Epoch 1/10\n",
      "230/230 [==============================] - 2s 5ms/step - loss: 6.2875 - val_loss: 1.3006\n",
      "Epoch 2/10\n",
      "230/230 [==============================] - 1s 5ms/step - loss: 0.9134 - val_loss: 1.3371\n",
      "Epoch 3/10\n",
      "230/230 [==============================] - 1s 4ms/step - loss: 0.9051 - val_loss: 1.2944\n",
      "Epoch 4/10\n",
      "230/230 [==============================] - 1s 4ms/step - loss: 0.8877 - val_loss: 1.2747\n",
      "Epoch 5/10\n",
      "230/230 [==============================] - 1s 4ms/step - loss: 0.8721 - val_loss: 1.2564\n",
      "Epoch 6/10\n",
      "230/230 [==============================] - 1s 4ms/step - loss: 0.8501 - val_loss: 1.2264\n",
      "Epoch 7/10\n",
      "230/230 [==============================] - 1s 4ms/step - loss: 0.8242 - val_loss: 1.2120\n",
      "Epoch 8/10\n",
      "230/230 [==============================] - 1s 4ms/step - loss: 0.8047 - val_loss: 1.2122\n",
      "Epoch 9/10\n",
      "230/230 [==============================] - 1s 4ms/step - loss: 0.7813 - val_loss: 1.2252\n"
     ]
    }
   ],
   "source": [
    "BATCH_SIZE_BIAS = 256\n",
    "mean_test_metric = evaluate_model(model, X_test, METRIC, rating_col=data.RATING_COL, \n",
    "                                           user_col=data.USER_ID_COL_TRANSFORMED,\n",
    "                                          item_col=data.ITEM_ID_COL_TRANSFORMED).mean() \n",
    "retrain_metrics = []\n",
    "biased_nodes = bias_tree_test.leaf_metrics[bias_tree_test.leaf_metrics['mean'] > mean_test_metric]\n",
    "for i, node_rules in biased_nodes.iterrows():\n",
    "    print(node_rules.name,  node_rules[\"mean\"])\n",
    "    X_train_filtered = bias_tree_test.get_filtered_df(node_rules.name,  X_train)\n",
    "    X_val_filtered = BiasDetectionTree.get_filtered_df(node_rules.name,  X_val)\n",
    "    X_test_filtered = BiasDetectionTree.get_filtered_df(node_rules.name,  X_test)\n",
    "    model_tuned_bias = tune_recommendation_hyperparams(X_train, X_val_filtered, user_ids=data.user_ids, item_ids=data.item_ids, \n",
    "                                 epochs=NUM_EPOCH, project_suffix=hashlib.md5(node_rules.name.encode()).hexdigest()[:5] + now,\n",
    "                                                      batch_size=BATCH_SIZE_BIAS, max_trials=1, rating_col=data.RATING_COL, \n",
    "                                           user_col=data.USER_ID_COL_TRANSFORMED, item_col=data.ITEM_ID_COL_TRANSFORMED)\n",
    "#     model_bias = retrain_recommendation_model(X_train, X_val_filtered, model=model, epochs=10, \n",
    "#                                               retrain_embeddings=False)    \n",
    "    node_test_metric_after_retraining = evaluate_model(model_tuned_bias, X_test_filtered, METRIC, rating_col=data.RATING_COL, \n",
    "                                           user_col=data.USER_ID_COL_TRANSFORMED,\n",
    "                                          item_col=data.ITEM_ID_COL_TRANSFORMED).mean()\n",
    "    node_val_metric_after_retraining = evaluate_model(model_tuned_bias,  X_val_filtered, METRIC, rating_col=data.RATING_COL, \n",
    "                                           user_col=data.USER_ID_COL_TRANSFORMED,\n",
    "                                          item_col=data.ITEM_ID_COL_TRANSFORMED).mean()\n",
    "    node_test_metric_before_retraining = evaluate_model(model,  X_test_filtered, METRIC, rating_col=data.RATING_COL, \n",
    "                                           user_col=data.USER_ID_COL_TRANSFORMED,\n",
    "                                          item_col=data.ITEM_ID_COL_TRANSFORMED).mean()\n",
    "    node_val_metric_before_retraining = evaluate_model(model, X_val_filtered, METRIC, rating_col=data.RATING_COL, \n",
    "                                           user_col=data.USER_ID_COL_TRANSFORMED,\n",
    "                                          item_col=data.ITEM_ID_COL_TRANSFORMED).mean()\n",
    "    retrain_metrics.append({\n",
    "        'node_rules': node_rules.name,\n",
    "        'node_test_metric_before_retraining':  node_test_metric_before_retraining,\n",
    "        'node_val_metric_before_retraining':  node_val_metric_before_retraining,\n",
    "        'node_test_metric_after_retraining': node_test_metric_after_retraining,\n",
    "        'node_val_metric_after_retraining': node_val_metric_after_retraining\n",
    "    })\n",
    "retrain_metrics_pd = pd.DataFrame(retrain_metrics)"
   ]
  },
  {
   "cell_type": "code",
   "execution_count": 10,
   "metadata": {},
   "outputs": [
    {
     "data": {
      "text/html": [
       "<div>\n",
       "<style scoped>\n",
       "    .dataframe tbody tr th:only-of-type {\n",
       "        vertical-align: middle;\n",
       "    }\n",
       "\n",
       "    .dataframe tbody tr th {\n",
       "        vertical-align: top;\n",
       "    }\n",
       "\n",
       "    .dataframe thead th {\n",
       "        text-align: right;\n",
       "    }\n",
       "</style>\n",
       "<table border=\"1\" class=\"dataframe\">\n",
       "  <thead>\n",
       "    <tr style=\"text-align: right;\">\n",
       "      <th></th>\n",
       "      <th>node_rules</th>\n",
       "      <th>node_test_metric_before_retraining</th>\n",
       "      <th>node_val_metric_before_retraining</th>\n",
       "      <th>node_test_metric_after_retraining</th>\n",
       "      <th>node_val_metric_after_retraining</th>\n",
       "      <th>retrain_test_diff</th>\n",
       "      <th>retrain_val_diff</th>\n",
       "    </tr>\n",
       "  </thead>\n",
       "  <tbody>\n",
       "    <tr>\n",
       "      <th>0</th>\n",
       "      <td>{\"year_bucketized\": [\"(1995.0, 1996.0]\", \"(199...</td>\n",
       "      <td>1.011</td>\n",
       "      <td>0.997</td>\n",
       "      <td>1.012</td>\n",
       "      <td>0.994</td>\n",
       "      <td>-0.064</td>\n",
       "      <td>0.317</td>\n",
       "    </tr>\n",
       "    <tr>\n",
       "      <th>1</th>\n",
       "      <td>{\"year_bucketized\": [\"(1982.0, 1993.0]\", \"(199...</td>\n",
       "      <td>1.027</td>\n",
       "      <td>1.017</td>\n",
       "      <td>0.991</td>\n",
       "      <td>0.973</td>\n",
       "      <td>3.565</td>\n",
       "      <td>4.304</td>\n",
       "    </tr>\n",
       "    <tr>\n",
       "      <th>2</th>\n",
       "      <td>{\"year_bucketized\": [\"(1995.0, 1996.0]\", \"(199...</td>\n",
       "      <td>1.048</td>\n",
       "      <td>1.256</td>\n",
       "      <td>1.049</td>\n",
       "      <td>1.215</td>\n",
       "      <td>-0.041</td>\n",
       "      <td>3.318</td>\n",
       "    </tr>\n",
       "  </tbody>\n",
       "</table>\n",
       "</div>"
      ],
      "text/plain": [
       "                                          node_rules  \\\n",
       "0  {\"year_bucketized\": [\"(1995.0, 1996.0]\", \"(199...   \n",
       "1  {\"year_bucketized\": [\"(1982.0, 1993.0]\", \"(199...   \n",
       "2  {\"year_bucketized\": [\"(1995.0, 1996.0]\", \"(199...   \n",
       "\n",
       "   node_test_metric_before_retraining  node_val_metric_before_retraining  \\\n",
       "0                               1.011                              0.997   \n",
       "1                               1.027                              1.017   \n",
       "2                               1.048                              1.256   \n",
       "\n",
       "   node_test_metric_after_retraining  node_val_metric_after_retraining  \\\n",
       "0                              1.012                             0.994   \n",
       "1                              0.991                             0.973   \n",
       "2                              1.049                             1.215   \n",
       "\n",
       "   retrain_test_diff  retrain_val_diff  \n",
       "0             -0.064             0.317  \n",
       "1              3.565             4.304  \n",
       "2             -0.041             3.318  "
      ]
     },
     "execution_count": 10,
     "metadata": {},
     "output_type": "execute_result"
    }
   ],
   "source": [
    "retrain_metrics_pd['retrain_test_diff'] = 100*(retrain_metrics_pd['node_test_metric_before_retraining'] \\\n",
    "                                          - retrain_metrics_pd['node_test_metric_after_retraining'])\\\n",
    "                              /retrain_metrics_pd['node_test_metric_before_retraining']\n",
    "\n",
    "retrain_metrics_pd['retrain_val_diff'] = 100*(retrain_metrics_pd['node_val_metric_before_retraining'] \\\n",
    "                                          - retrain_metrics_pd['node_val_metric_after_retraining'])\\\n",
    "                                          /retrain_metrics_pd['node_val_metric_before_retraining']\n",
    "retrain_metrics_pd.round(3)"
   ]
  },
  {
   "cell_type": "code",
   "execution_count": null,
   "metadata": {},
   "outputs": [],
   "source": []
  },
  {
   "cell_type": "code",
   "execution_count": null,
   "metadata": {},
   "outputs": [],
   "source": []
  },
  {
   "cell_type": "code",
   "execution_count": null,
   "metadata": {},
   "outputs": [],
   "source": []
  },
  {
   "cell_type": "code",
   "execution_count": null,
   "metadata": {},
   "outputs": [],
   "source": []
  },
  {
   "cell_type": "code",
   "execution_count": null,
   "metadata": {},
   "outputs": [],
   "source": []
  }
 ],
 "metadata": {
  "kernelspec": {
   "display_name": "Python 3",
   "language": "python",
   "name": "python3"
  },
  "language_info": {
   "codemirror_mode": {
    "name": "ipython",
    "version": 3
   },
   "file_extension": ".py",
   "mimetype": "text/x-python",
   "name": "python",
   "nbconvert_exporter": "python",
   "pygments_lexer": "ipython3",
   "version": "3.7.4"
  }
 },
 "nbformat": 4,
 "nbformat_minor": 2
}
