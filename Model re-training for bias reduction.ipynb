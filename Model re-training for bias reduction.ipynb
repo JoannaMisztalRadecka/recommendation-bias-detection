{
 "cells": [
  {
   "cell_type": "code",
   "execution_count": 1,
   "metadata": {
    "scrolled": true
   },
   "outputs": [],
   "source": [
    "import pandas as pd\n",
    "from bias_tree import BiasDetectionTree, get_metric_bias_tree_for_model, evaluate_model\n",
    "from data_preparation.movielens_100k import MovieLens100KData\n",
    "from recommender.factorization_recommender import fit_recommendation_model, retrain_recommendation_model,\\\n",
    "tune_recommendation_hyperparams"
   ]
  },
  {
   "cell_type": "markdown",
   "metadata": {},
   "source": [
    "### Prepare training data"
   ]
  },
  {
   "cell_type": "code",
   "execution_count": 2,
   "metadata": {},
   "outputs": [],
   "source": [
    "data = MovieLens100KData(data_path='data/ml-100k')\n",
    "X_train, X_val, X_test = data.get_data_splits_for_training()"
   ]
  },
  {
   "cell_type": "markdown",
   "metadata": {},
   "source": [
    "### Train MF recommendation model"
   ]
  },
  {
   "cell_type": "code",
   "execution_count": 3,
   "metadata": {},
   "outputs": [],
   "source": [
    "EMBEDDING_SIZE = 10\n",
    "NUM_EPOCH = 50\n",
    "REGULARIZATION = 1e-4\n",
    "LEARNING_RATE = 1e-3"
   ]
  },
  {
   "cell_type": "code",
   "execution_count": null,
   "metadata": {
    "scrolled": true
   },
   "outputs": [
    {
     "name": "stdout",
     "output_type": "stream",
     "text": [
      "Trial 1 Complete [00h 00m 08s]\n",
      "val_loss: 101.82553100585938\n",
      "\n",
      "Best val_loss So Far: 101.82553100585938\n",
      "Total elapsed time: 00h 00m 08s\n",
      "\n",
      "Search: Running Trial #2\n",
      "\n",
      "Hyperparameter    |Value             |Best Value So Far \n",
      "embedding_size    |48                |48                \n",
      "regularization_...|0.01              |0.0001            \n",
      "learning_rate     |0.0001            |0.01              \n",
      "\n",
      "Epoch 1/50\n",
      "WARNING:tensorflow:AutoGraph could not transform <function Model.make_train_function.<locals>.train_function at 0x000001C3062A3DC8> and will run it as-is.\n",
      "Please report this to the TensorFlow team. When filing the bug, set the verbosity to 10 (on Linux, `export AUTOGRAPH_VERBOSITY=10`) and attach the full output.\n",
      "Cause: 'arguments' object has no attribute 'posonlyargs'\n",
      "To silence this warning, decorate the function with @tf.autograph.experimental.do_not_convert\n",
      "WARNING: AutoGraph could not transform <function Model.make_train_function.<locals>.train_function at 0x000001C3062A3DC8> and will run it as-is.\n",
      "Please report this to the TensorFlow team. When filing the bug, set the verbosity to 10 (on Linux, `export AUTOGRAPH_VERBOSITY=10`) and attach the full output.\n",
      "Cause: 'arguments' object has no attribute 'posonlyargs'\n",
      "To silence this warning, decorate the function with @tf.autograph.experimental.do_not_convert\n",
      "918/938 [============================>.] - ETA: 0s - loss: 15.2925WARNING:tensorflow:AutoGraph could not transform <function Model.make_test_function.<locals>.test_function at 0x000001C30642F948> and will run it as-is.\n",
      "Please report this to the TensorFlow team. When filing the bug, set the verbosity to 10 (on Linux, `export AUTOGRAPH_VERBOSITY=10`) and attach the full output.\n",
      "Cause: 'arguments' object has no attribute 'posonlyargs'\n",
      "To silence this warning, decorate the function with @tf.autograph.experimental.do_not_convert\n",
      "WARNING: AutoGraph could not transform <function Model.make_test_function.<locals>.test_function at 0x000001C30642F948> and will run it as-is.\n",
      "Please report this to the TensorFlow team. When filing the bug, set the verbosity to 10 (on Linux, `export AUTOGRAPH_VERBOSITY=10`) and attach the full output.\n",
      "Cause: 'arguments' object has no attribute 'posonlyargs'\n",
      "To silence this warning, decorate the function with @tf.autograph.experimental.do_not_convert\n",
      "938/938 [==============================] - 3s 3ms/step - loss: 15.2877 - val_loss: 14.7307\n",
      "Epoch 2/50\n",
      "938/938 [==============================] - 2s 2ms/step - loss: 14.0340 - val_loss: 13.9460\n",
      "Epoch 3/50\n",
      "938/938 [==============================] - 2s 3ms/step - loss: 12.5720 - val_loss: 12.1510\n",
      "Epoch 4/50\n",
      "938/938 [==============================] - 2s 2ms/step - loss: 10.0433 - val_loss: 8.2615\n",
      "Epoch 5/50\n",
      "938/938 [==============================] - 2s 3ms/step - loss: 5.9760 - val_loss: 4.2787\n",
      "Epoch 6/50\n",
      "938/938 [==============================] - 2s 2ms/step - loss: 3.3242 - val_loss: 3.1475\n",
      "Epoch 7/50\n",
      "938/938 [==============================] - 2s 3ms/step - loss: 2.8455 - val_loss: 2.8637\n",
      "Epoch 8/50\n",
      "938/938 [==============================] - 2s 2ms/step - loss: 2.6487 - val_loss: 2.6101\n",
      "Epoch 9/50\n",
      "938/938 [==============================] - 2s 3ms/step - loss: 2.4221 - val_loss: 2.3664\n",
      "Epoch 10/50\n",
      "938/938 [==============================] - 2s 2ms/step - loss: 2.2149 - val_loss: 2.1696\n",
      "Epoch 11/50\n",
      "938/938 [==============================] - 2s 2ms/step - loss: 2.0750 - val_loss: 2.0219\n",
      "Epoch 12/50\n",
      "938/938 [==============================] - 2s 2ms/step - loss: 1.9564 - val_loss: 1.9349\n",
      "Epoch 13/50\n",
      "938/938 [==============================] - 2s 3ms/step - loss: 1.8744 - val_loss: 1.8746\n",
      "Epoch 14/50\n",
      "938/938 [==============================] - 2s 2ms/step - loss: 1.8385 - val_loss: 1.8369\n",
      "Epoch 15/50\n",
      "938/938 [==============================] - 2s 2ms/step - loss: 1.7906 - val_loss: 1.8068\n",
      "Epoch 16/50\n",
      "938/938 [==============================] - 2s 2ms/step - loss: 1.7729 - val_loss: 1.7858\n",
      "Epoch 17/50\n",
      "938/938 [==============================] - 2s 2ms/step - loss: 1.7670 - val_loss: 1.7667\n",
      "Epoch 18/50\n",
      "938/938 [==============================] - 3s 3ms/step - loss: 1.7218 - val_loss: 1.7533\n",
      "Epoch 19/50\n",
      "938/938 [==============================] - 2s 3ms/step - loss: 1.7372 - val_loss: 1.7413\n",
      "Epoch 20/50\n",
      "938/938 [==============================] - 2s 2ms/step - loss: 1.7051 - val_loss: 1.7278\n",
      "Epoch 21/50\n",
      "938/938 [==============================] - 2s 2ms/step - loss: 1.6936 - val_loss: 1.7181\n",
      "Epoch 22/50\n",
      "938/938 [==============================] - 2s 3ms/step - loss: 1.6801 - val_loss: 1.7084\n",
      "Epoch 23/50\n",
      "938/938 [==============================] - 2s 2ms/step - loss: 1.6802 - val_loss: 1.6978\n",
      "Epoch 24/50\n",
      "938/938 [==============================] - 2s 2ms/step - loss: 1.6594 - val_loss: 1.6906\n",
      "Epoch 25/50\n",
      "938/938 [==============================] - 2s 2ms/step - loss: 1.6333 - val_loss: 1.6814\n",
      "Epoch 26/50\n",
      "938/938 [==============================] - 2s 2ms/step - loss: 1.6424 - val_loss: 1.6741\n",
      "Epoch 27/50\n",
      "938/938 [==============================] - 2s 2ms/step - loss: 1.6193 - val_loss: 1.6656\n",
      "Epoch 28/50\n",
      "938/938 [==============================] - 2s 2ms/step - loss: 1.6174 - val_loss: 1.6560\n",
      "Epoch 29/50\n",
      "938/938 [==============================] - 2s 2ms/step - loss: 1.6150 - val_loss: 1.6477\n",
      "Epoch 30/50\n",
      "938/938 [==============================] - 2s 2ms/step - loss: 1.6047 - val_loss: 1.6416\n",
      "Epoch 31/50\n",
      "938/938 [==============================] - 2s 2ms/step - loss: 1.6061 - val_loss: 1.6363\n",
      "Epoch 32/50\n",
      "938/938 [==============================] - 3s 3ms/step - loss: 1.5845 - val_loss: 1.6305\n",
      "Epoch 33/50\n",
      "938/938 [==============================] - 3s 3ms/step - loss: 1.5837 - val_loss: 1.6273\n",
      "Epoch 34/50\n",
      "938/938 [==============================] - 2s 2ms/step - loss: 1.5736 - val_loss: 1.6201\n",
      "Epoch 35/50\n",
      "938/938 [==============================] - 2s 2ms/step - loss: 1.5663 - val_loss: 1.6122\n",
      "Epoch 36/50\n",
      "938/938 [==============================] - 2s 3ms/step - loss: 1.5664 - val_loss: 1.6063\n",
      "Epoch 37/50\n",
      "938/938 [==============================] - 2s 2ms/step - loss: 1.5549 - val_loss: 1.6060\n",
      "Epoch 38/50\n",
      "938/938 [==============================] - 3s 3ms/step - loss: 1.5638 - val_loss: 1.5977\n",
      "Epoch 39/50\n",
      "938/938 [==============================] - 3s 4ms/step - loss: 1.5499 - val_loss: 1.5970\n",
      "Epoch 40/50\n",
      "938/938 [==============================] - 2s 2ms/step - loss: 1.5343 - val_loss: 1.5891\n",
      "Epoch 41/50\n",
      "938/938 [==============================] - 2s 2ms/step - loss: 1.5376 - val_loss: 1.5870\n",
      "Epoch 42/50\n",
      "790/938 [========================>.....] - ETA: 0s - loss: 1.5338"
     ]
    }
   ],
   "source": [
    "model = tune_recommendation_hyperparams(X_train, X_val, num_users=data.num_users, num_items=data.num_items, \n",
    "                                 epochs=NUM_EPOCH,)"
   ]
  },
  {
   "cell_type": "markdown",
   "metadata": {},
   "source": [
    "### Analyze bias for the recommendation model"
   ]
  },
  {
   "cell_type": "code",
   "execution_count": null,
   "metadata": {},
   "outputs": [],
   "source": [
    "MIN_CHILD_NODE_SIZE = 1000\n",
    "METRIC = 'squared_error'"
   ]
  },
  {
   "cell_type": "code",
   "execution_count": null,
   "metadata": {},
   "outputs": [],
   "source": [
    "bias_tree_test = get_metric_bias_tree_for_model(model, X_test, data.attributes_dict, \n",
    "                                                 metric_name=METRIC,\n",
    "                                                min_child_node_size=MIN_CHILD_NODE_SIZE)\n",
    "display(bias_tree_test.leaf_metrics)"
   ]
  },
  {
   "cell_type": "markdown",
   "metadata": {},
   "source": [
    "Show the node with highest error"
   ]
  },
  {
   "cell_type": "code",
   "execution_count": null,
   "metadata": {},
   "outputs": [],
   "source": [
    "print(bias_tree_test.max_metric_node, round(bias_tree_test.max_metric_value, 3))"
   ]
  },
  {
   "cell_type": "markdown",
   "metadata": {},
   "source": [
    "### Retrain the model for the biased nodes"
   ]
  },
  {
   "cell_type": "code",
   "execution_count": 8,
   "metadata": {
    "scrolled": true
   },
   "outputs": [
    {
     "name": "stdout",
     "output_type": "stream",
     "text": [
      "{\"gender\": [\"F\"], \"age_bucketized\": [\"high\", \"medium\"]} 0.9844221133240428\n",
      "Train on 10459 samples, validate on 3475 samples\n",
      "Epoch 1/100\n",
      "10459/10459 [==============================] - 0s 31us/sample - loss: 0.8575 - val_loss: 0.9582\n",
      "Epoch 2/100\n",
      "10459/10459 [==============================] - 0s 31us/sample - loss: 0.8500 - val_loss: 0.9570\n",
      "Epoch 3/100\n",
      "10459/10459 [==============================] - 0s 41us/sample - loss: 0.8433 - val_loss: 0.9560\n",
      "Epoch 4/100\n",
      "10459/10459 [==============================] - 0s 41us/sample - loss: 0.8371 - val_loss: 0.9556\n",
      "Epoch 5/100\n",
      "10459/10459 [==============================] - 0s 34us/sample - loss: 0.8321 - val_loss: 0.9554\n",
      "Epoch 6/100\n",
      "10459/10459 [==============================] - 0s 39us/sample - loss: 0.8287 - val_loss: 0.9551\n",
      "Epoch 7/100\n",
      "10459/10459 [==============================] - 0s 34us/sample - loss: 0.8251 - val_loss: 0.9554\n",
      "Epoch 8/100\n",
      "10459/10459 [==============================] - 0s 37us/sample - loss: 0.8205 - val_loss: 0.9556\n"
     ]
    },
    {
     "data": {
      "image/png": "[encoded data removed]",
      "text/plain": [
       "<Figure size 432x288 with 1 Axes>"
      ]
     },
     "metadata": {
      "needs_background": "light"
     },
     "output_type": "display_data"
    },
    {
     "name": "stdout",
     "output_type": "stream",
     "text": [
      "{\"gender\": [\"M\"], \"year_bucketized\": [\"high\"], \"user activity_bucketized\": [\"low\"]} 1.099102261584876\n",
      "Train on 4491 samples, validate on 1492 samples\n",
      "Epoch 1/100\n",
      "4491/4491 [==============================] - 0s 41us/sample - loss: 0.9386 - val_loss: 1.1109\n",
      "Epoch 2/100\n",
      "4491/4491 [==============================] - 0s 36us/sample - loss: 0.9246 - val_loss: 1.1084\n",
      "Epoch 3/100\n",
      "4491/4491 [==============================] - 0s 38us/sample - loss: 0.9131 - val_loss: 1.1074\n",
      "Epoch 4/100\n",
      "4491/4491 [==============================] - 0s 35us/sample - loss: 0.9073 - val_loss: 1.1070\n",
      "Epoch 5/100\n",
      "4491/4491 [==============================] - 0s 32us/sample - loss: 0.8974 - val_loss: 1.1077\n",
      "Epoch 6/100\n",
      "4491/4491 [==============================] - 0s 34us/sample - loss: 0.8903 - val_loss: 1.1074\n"
     ]
    },
    {
     "data": {
      "image/png": "[encoded data removed]",
      "text/plain": [
       "<Figure size 432x288 with 1 Axes>"
      ]
     },
     "metadata": {
      "needs_background": "light"
     },
     "output_type": "display_data"
    },
    {
     "name": "stdout",
     "output_type": "stream",
     "text": [
      "{\"gender\": [\"F\"], \"age_bucketized\": [\"low\"]} 1.1745345288447375\n",
      "Train on 5004 samples, validate on 1699 samples\n",
      "Epoch 1/100\n",
      "5004/5004 [==============================] - 0s 36us/sample - loss: 1.0605 - val_loss: 1.0965\n",
      "Epoch 2/100\n",
      "5004/5004 [==============================] - 0s 30us/sample - loss: 1.0488 - val_loss: 1.0958\n",
      "Epoch 3/100\n",
      "5004/5004 [==============================] - 0s 36us/sample - loss: 1.0389 - val_loss: 1.0956\n",
      "Epoch 4/100\n",
      "5004/5004 [==============================] - 0s 55us/sample - loss: 1.0305 - val_loss: 1.0952\n",
      "Epoch 5/100\n",
      "5004/5004 [==============================] - 0s 60us/sample - loss: 1.0258 - val_loss: 1.0941\n",
      "Epoch 6/100\n",
      "5004/5004 [==============================] - 0s 40us/sample - loss: 1.0164 - val_loss: 1.0941\n",
      "Epoch 7/100\n",
      "5004/5004 [==============================] - 0s 60us/sample - loss: 1.0113 - val_loss: 1.0940\n",
      "Epoch 8/100\n",
      "5004/5004 [==============================] - 0s 49us/sample - loss: 1.0035 - val_loss: 1.0939\n",
      "Epoch 9/100\n",
      "5004/5004 [==============================] - 0s 33us/sample - loss: 0.9974 - val_loss: 1.0940\n",
      "Epoch 10/100\n",
      "5004/5004 [==============================] - 0s 31us/sample - loss: 0.9916 - val_loss: 1.0944\n"
     ]
    },
    {
     "data": {
      "image/png": "[encoded data removed]",
      "text/plain": [
       "<Figure size 432x288 with 1 Axes>"
      ]
     },
     "metadata": {
      "needs_background": "light"
     },
     "output_type": "display_data"
    }
   ],
   "source": [
    "RETRAIN_EPOCHS = 100\n",
    "mean_test_metric = X_test[METRIC].mean()\n",
    "retrain_metrics = []\n",
    "\n",
    "biased_nodes = bias_tree_test.leaf_metrics[bias_tree_test.leaf_metrics['mean'] > mean_test_metric]\n",
    "for i, node_rules in biased_nodes.iterrows():\n",
    "    print(node_rules.name,  node_rules[\"mean\"])\n",
    "\n",
    "    X_train_filtered = bias_tree_test.get_filtered_df(node_rules.name,  X_train)\n",
    "    X_val_filtered = BiasDetectionTree.get_filtered_df(node_rules.name,  X_val)\n",
    "    model_tuned_bias = tune_recommendation_hyperparams(X_train, X_val_filtered, num_users=data.num_users,\n",
    "                                                       num_items=data.num_items, \n",
    "                                 epochs=NUM_EPOCH,)\n",
    "#     model = fit_recommendation_model(X_train, X_val_filtered, num_users=data.num_users, num_items=data.num_items, \n",
    "#                                  epochs=100, embedding_size=10, \n",
    "#                                  regularization_coef=1e-4,\n",
    "#                                  lr=0.001)\n",
    "    model_bias = retrain_recommendation_model(X_train_filtered, X_val_filtered, model=model_tuned_bias, epochs=RETRAIN_EPOCHS, \n",
    "                                              retrain_embeddings=False)    \n",
    "    node_metric_after_retraining = evaluate_model(model_bias, \n",
    "                                                  BiasDetectionTree.get_filtered_df(node_rules.name,  X_test), \n",
    "                                                  METRIC).mean()\n",
    "    retrain_metrics.append({\n",
    "        'node_rules': node_rules.name,\n",
    "        'node_metric':  node_rules[\"mean\"],\n",
    "        'node_metric_after_retraining': node_metric_after_retraining\n",
    "    })\n",
    "retrain_metrics_pd = pd.DataFrame(retrain_metrics)"
   ]
  },
  {
   "cell_type": "code",
   "execution_count": 9,
   "metadata": {},
   "outputs": [],
   "source": [
    "retrain_metrics_pd['retrain_diff_pct'] = 100*(retrain_metrics_pd['node_metric'] \n",
    "                                          - retrain_metrics_pd['node_metric_after_retraining']) \\\n",
    "                                            / retrain_metrics_pd['node_metric']"
   ]
  },
  {
   "cell_type": "code",
   "execution_count": 10,
   "metadata": {},
   "outputs": [
    {
     "data": {
      "text/html": [
       "<div>\n",
       "<style scoped>\n",
       "    .dataframe tbody tr th:only-of-type {\n",
       "        vertical-align: middle;\n",
       "    }\n",
       "\n",
       "    .dataframe tbody tr th {\n",
       "        vertical-align: top;\n",
       "    }\n",
       "\n",
       "    .dataframe thead th {\n",
       "        text-align: right;\n",
       "    }\n",
       "</style>\n",
       "<table border=\"1\" class=\"dataframe\">\n",
       "  <thead>\n",
       "    <tr style=\"text-align: right;\">\n",
       "      <th></th>\n",
       "      <th>node_rules</th>\n",
       "      <th>node_metric</th>\n",
       "      <th>node_metric_after_retraining</th>\n",
       "      <th>retrain_diff_pct</th>\n",
       "    </tr>\n",
       "  </thead>\n",
       "  <tbody>\n",
       "    <tr>\n",
       "      <th>0</th>\n",
       "      <td>{\"gender\": [\"F\"], \"age_bucketized\": [\"high\", \"...</td>\n",
       "      <td>0.984422</td>\n",
       "      <td>0.980683</td>\n",
       "      <td>0.379848</td>\n",
       "    </tr>\n",
       "    <tr>\n",
       "      <th>1</th>\n",
       "      <td>{\"gender\": [\"M\"], \"year_bucketized\": [\"high\"],...</td>\n",
       "      <td>1.099102</td>\n",
       "      <td>1.094529</td>\n",
       "      <td>0.416048</td>\n",
       "    </tr>\n",
       "    <tr>\n",
       "      <th>2</th>\n",
       "      <td>{\"gender\": [\"F\"], \"age_bucketized\": [\"low\"]}</td>\n",
       "      <td>1.174535</td>\n",
       "      <td>1.164193</td>\n",
       "      <td>0.880484</td>\n",
       "    </tr>\n",
       "  </tbody>\n",
       "</table>\n",
       "</div>"
      ],
      "text/plain": [
       "                                          node_rules  node_metric  \\\n",
       "0  {\"gender\": [\"F\"], \"age_bucketized\": [\"high\", \"...     0.984422   \n",
       "1  {\"gender\": [\"M\"], \"year_bucketized\": [\"high\"],...     1.099102   \n",
       "2       {\"gender\": [\"F\"], \"age_bucketized\": [\"low\"]}     1.174535   \n",
       "\n",
       "   node_metric_after_retraining  retrain_diff_pct  \n",
       "0                      0.980683          0.379848  \n",
       "1                      1.094529          0.416048  \n",
       "2                      1.164193          0.880484  "
      ]
     },
     "execution_count": 10,
     "metadata": {},
     "output_type": "execute_result"
    }
   ],
   "source": [
    "retrain_metrics_pd"
   ]
  },
  {
   "cell_type": "code",
   "execution_count": null,
   "metadata": {},
   "outputs": [],
   "source": []
  },
  {
   "cell_type": "code",
   "execution_count": null,
   "metadata": {},
   "outputs": [],
   "source": []
  }
 ],
 "metadata": {
  "kernelspec": {
   "display_name": "Python 3",
   "language": "python",
   "name": "python3"
  },
  "language_info": {
   "codemirror_mode": {
    "name": "ipython",
    "version": 3
   },
   "file_extension": ".py",
   "mimetype": "text/x-python",
   "name": "python",
   "nbconvert_exporter": "python",
   "pygments_lexer": "ipython3",
   "version": "3.7.4"
  }
 },
 "nbformat": 4,
 "nbformat_minor": 2
}
