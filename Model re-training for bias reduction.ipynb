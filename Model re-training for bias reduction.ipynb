{
 "cells": [
  {
   "cell_type": "code",
   "execution_count": 6,
   "metadata": {
    "scrolled": true
   },
   "outputs": [],
   "source": [
    "import pandas as pd\n",
    "from bias_tree import BiasDetectionTree, get_metric_bias_tree_for_model, evaluate_model\n",
    "from data_preparation.movielens_100k import MovieLens100KData\n",
    "from recommender.factorization_recommender import fit_recommendation_model, retrain_recommendation_model,\\\n",
    "tune_recommendation_hyperparams"
   ]
  },
  {
   "cell_type": "markdown",
   "metadata": {},
   "source": [
    "### Prepare training data"
   ]
  },
  {
   "cell_type": "code",
   "execution_count": 7,
   "metadata": {},
   "outputs": [],
   "source": [
    "data = MovieLens100KData(data_path='data/ml-100k')\n",
    "X_train, X_val, X_test = data.get_data_splits_for_training()"
   ]
  },
  {
   "cell_type": "markdown",
   "metadata": {},
   "source": [
    "### Train MF recommendation model"
   ]
  },
  {
   "cell_type": "code",
   "execution_count": 8,
   "metadata": {},
   "outputs": [],
   "source": [
    "NUM_EPOCH = 100"
   ]
  },
  {
   "cell_type": "code",
   "execution_count": 10,
   "metadata": {
    "scrolled": false
   },
   "outputs": [
    {
     "name": "stdout",
     "output_type": "stream",
     "text": [
      "Epoch 1/100\n",
      "938/938 [==============================] - 3s 2ms/step - loss: 11.5275 - val_loss: 1.2604\n",
      "Epoch 2/100\n",
      "938/938 [==============================] - 2s 2ms/step - loss: 1.2400 - val_loss: 1.2285\n",
      "Epoch 3/100\n",
      "938/938 [==============================] - 2s 2ms/step - loss: 1.1190 - val_loss: 1.1177\n",
      "Epoch 4/100\n",
      "938/938 [==============================] - 2s 2ms/step - loss: 1.0418 - val_loss: 1.0712\n",
      "Epoch 5/100\n",
      "938/938 [==============================] - 2s 2ms/step - loss: 0.9692 - val_loss: 1.0337\n",
      "Epoch 6/100\n",
      "938/938 [==============================] - 2s 2ms/step - loss: 0.9489 - val_loss: 1.0736\n",
      "Epoch 7/100\n",
      "938/938 [==============================] - 2s 2ms/step - loss: 0.9255 - val_loss: 0.9821\n",
      "Epoch 8/100\n",
      "938/938 [==============================] - 2s 2ms/step - loss: 0.9189 - val_loss: 0.9711\n",
      "Epoch 9/100\n",
      "938/938 [==============================] - 2s 2ms/step - loss: 0.9187 - val_loss: 0.9854\n",
      "Epoch 10/100\n",
      "938/938 [==============================] - 2s 2ms/step - loss: 0.9130 - val_loss: 0.9796\n"
     ]
    },
    {
     "data": {
      "image/png": "[encoded data removed]",
      "text/plain": [
       "<Figure size 432x288 with 1 Axes>"
      ]
     },
     "metadata": {
      "needs_background": "light"
     },
     "output_type": "display_data"
    }
   ],
   "source": [
    "model = fit_recommendation_model(X_train, X_val, num_users=data.num_users, num_items=data.num_items, \n",
    "                                 epochs=NUM_EPOCH,)\n",
    "# tune_recommendation_hyperparams(X_train, X_val, num_users=data.num_users, num_items=data.num_items, \n",
    "#                                  epochs=NUM_EPOCH,)"
   ]
  },
  {
   "cell_type": "markdown",
   "metadata": {},
   "source": [
    "### Analyze bias for the recommendation model"
   ]
  },
  {
   "cell_type": "code",
   "execution_count": 11,
   "metadata": {},
   "outputs": [],
   "source": [
    "MIN_CHILD_NODE_SIZE = 1000\n",
    "METRIC = 'squared_error'"
   ]
  },
  {
   "cell_type": "code",
   "execution_count": 12,
   "metadata": {},
   "outputs": [
    {
     "data": {
      "text/plain": [
       "3.2895286083221436"
      ]
     },
     "execution_count": 12,
     "metadata": {},
     "output_type": "execute_result"
    }
   ],
   "source": [
    "evaluate_model(model, X_train, METRIC).mean()"
   ]
  },
  {
   "cell_type": "code",
   "execution_count": 16,
   "metadata": {},
   "outputs": [
    {
     "data": {
      "text/plain": [
       "43660    2\n",
       "87278    3\n",
       "14317    3\n",
       "81932    2\n",
       "95321    4\n",
       "        ..\n",
       "73441    3\n",
       "1341     5\n",
       "71987    4\n",
       "26910    5\n",
       "24890    5\n",
       "Name: rating, Length: 20000, dtype: int64"
      ]
     },
     "execution_count": 16,
     "metadata": {},
     "output_type": "execute_result"
    }
   ],
   "source": [
    "X_test['rating']"
   ]
  },
  {
   "cell_type": "code",
   "execution_count": 23,
   "metadata": {},
   "outputs": [
    {
     "data": {
      "text/plain": [
       "<AxesSubplot:>"
      ]
     },
     "execution_count": 23,
     "metadata": {},
     "output_type": "execute_result"
    },
    {
     "data": {
      "image/png": "[encoded data removed]",
      "text/plain": [
       "<Figure size 432x288 with 1 Axes>"
      ]
     },
     "metadata": {
      "needs_background": "light"
     },
     "output_type": "display_data"
    }
   ],
   "source": [
    "X_test['pred'].hist()"
   ]
  },
  {
   "cell_type": "code",
   "execution_count": 18,
   "metadata": {},
   "outputs": [
    {
     "data": {
      "text/plain": [
       "'squared_error'"
      ]
     },
     "execution_count": 18,
     "metadata": {},
     "output_type": "execute_result"
    }
   ],
   "source": [
    "METRIC"
   ]
  },
  {
   "cell_type": "code",
   "execution_count": 6,
   "metadata": {},
   "outputs": [
    {
     "name": "stdout",
     "output_type": "stream",
     "text": [
      "WARNING:tensorflow:AutoGraph could not transform <function Model.make_predict_function.<locals>.predict_function at 0x00000274EC60A3A8> and will run it as-is.\n",
      "Please report this to the TensorFlow team. When filing the bug, set the verbosity to 10 (on Linux, `export AUTOGRAPH_VERBOSITY=10`) and attach the full output.\n",
      "Cause: 'arguments' object has no attribute 'posonlyargs'\n",
      "To silence this warning, decorate the function with @tf.autograph.experimental.do_not_convert\n",
      "WARNING: AutoGraph could not transform <function Model.make_predict_function.<locals>.predict_function at 0x00000274EC60A3A8> and will run it as-is.\n",
      "Please report this to the TensorFlow team. When filing the bug, set the verbosity to 10 (on Linux, `export AUTOGRAPH_VERBOSITY=10`) and attach the full output.\n",
      "Cause: 'arguments' object has no attribute 'posonlyargs'\n",
      "To silence this warning, decorate the function with @tf.autograph.experimental.do_not_convert\n",
      "root=[]: 3.416\n",
      "├── item popularity_bucketized=['high']: 3.394\n",
      "│   ├── gender=['F']: 3.446\n",
      "│   └── gender=['M']: 3.377\n",
      "│       ├── Thriller=[0]: 3.444\n",
      "│       └── Thriller=[1]: 3.203\n",
      "└── item popularity_bucketized=['low', 'medium']: 3.427\n",
      "    ├── year_bucketized=['high']: 3.472\n",
      "    └── year_bucketized=['low', 'medium']: 3.418\n",
      "        ├── gender=['F']: 3.505\n",
      "        └── gender=['M']: 3.388\n",
      "\n"
     ]
    },
    {
     "data": {
      "text/html": [
       "<div>\n",
       "<style scoped>\n",
       "    .dataframe tbody tr th:only-of-type {\n",
       "        vertical-align: middle;\n",
       "    }\n",
       "\n",
       "    .dataframe tbody tr th {\n",
       "        vertical-align: top;\n",
       "    }\n",
       "\n",
       "    .dataframe thead th {\n",
       "        text-align: right;\n",
       "    }\n",
       "</style>\n",
       "<table border=\"1\" class=\"dataframe\">\n",
       "  <thead>\n",
       "    <tr style=\"text-align: right;\">\n",
       "      <th></th>\n",
       "      <th>count</th>\n",
       "      <th>mean</th>\n",
       "      <th>std</th>\n",
       "      <th>min</th>\n",
       "      <th>25%</th>\n",
       "      <th>50%</th>\n",
       "      <th>75%</th>\n",
       "      <th>max</th>\n",
       "    </tr>\n",
       "    <tr>\n",
       "      <th>node_rules</th>\n",
       "      <th></th>\n",
       "      <th></th>\n",
       "      <th></th>\n",
       "      <th></th>\n",
       "      <th></th>\n",
       "      <th></th>\n",
       "      <th></th>\n",
       "      <th></th>\n",
       "    </tr>\n",
       "  </thead>\n",
       "  <tbody>\n",
       "    <tr>\n",
       "      <th>{\"item popularity_bucketized\": [\"high\"], \"gender\": [\"M\"], \"Thriller\": [1]}</th>\n",
       "      <td>1401.0</td>\n",
       "      <td>3.203349</td>\n",
       "      <td>2.534460</td>\n",
       "      <td>6.091563e-06</td>\n",
       "      <td>1.111284</td>\n",
       "      <td>2.785234</td>\n",
       "      <td>4.766267</td>\n",
       "      <td>13.169058</td>\n",
       "    </tr>\n",
       "    <tr>\n",
       "      <th>{\"item popularity_bucketized\": [\"low\", \"medium\"], \"year_bucketized\": [\"low\", \"medium\"], \"gender\": [\"M\"]}</th>\n",
       "      <td>8164.0</td>\n",
       "      <td>3.388098</td>\n",
       "      <td>2.918032</td>\n",
       "      <td>4.348951e-07</td>\n",
       "      <td>1.033587</td>\n",
       "      <td>2.714092</td>\n",
       "      <td>5.062162</td>\n",
       "      <td>18.900330</td>\n",
       "    </tr>\n",
       "    <tr>\n",
       "      <th>{\"item popularity_bucketized\": [\"high\"], \"gender\": [\"M\"], \"Thriller\": [0]}</th>\n",
       "      <td>3624.0</td>\n",
       "      <td>3.444491</td>\n",
       "      <td>2.739737</td>\n",
       "      <td>1.032598e-05</td>\n",
       "      <td>1.165611</td>\n",
       "      <td>2.921892</td>\n",
       "      <td>5.138381</td>\n",
       "      <td>19.296148</td>\n",
       "    </tr>\n",
       "    <tr>\n",
       "      <th>{\"item popularity_bucketized\": [\"high\"], \"gender\": [\"F\"]}</th>\n",
       "      <td>1669.0</td>\n",
       "      <td>3.445503</td>\n",
       "      <td>3.000862</td>\n",
       "      <td>6.754026e-07</td>\n",
       "      <td>1.003854</td>\n",
       "      <td>2.777877</td>\n",
       "      <td>5.187954</td>\n",
       "      <td>20.521087</td>\n",
       "    </tr>\n",
       "    <tr>\n",
       "      <th>{\"item popularity_bucketized\": [\"low\", \"medium\"], \"year_bucketized\": [\"high\"]}</th>\n",
       "      <td>2375.0</td>\n",
       "      <td>3.471554</td>\n",
       "      <td>3.275967</td>\n",
       "      <td>3.019235e-06</td>\n",
       "      <td>0.826800</td>\n",
       "      <td>2.612261</td>\n",
       "      <td>5.309688</td>\n",
       "      <td>21.202477</td>\n",
       "    </tr>\n",
       "    <tr>\n",
       "      <th>{\"item popularity_bucketized\": [\"low\", \"medium\"], \"year_bucketized\": [\"low\", \"medium\"], \"gender\": [\"F\"]}</th>\n",
       "      <td>2767.0</td>\n",
       "      <td>3.504829</td>\n",
       "      <td>3.252899</td>\n",
       "      <td>1.995524e-06</td>\n",
       "      <td>0.926277</td>\n",
       "      <td>2.650882</td>\n",
       "      <td>5.250245</td>\n",
       "      <td>23.586313</td>\n",
       "    </tr>\n",
       "  </tbody>\n",
       "</table>\n",
       "</div>"
      ],
      "text/plain": [
       "                                                     count      mean  \\\n",
       "node_rules                                                             \n",
       "{\"item popularity_bucketized\": [\"high\"], \"gende...  1401.0  3.203349   \n",
       "{\"item popularity_bucketized\": [\"low\", \"medium\"...  8164.0  3.388098   \n",
       "{\"item popularity_bucketized\": [\"high\"], \"gende...  3624.0  3.444491   \n",
       "{\"item popularity_bucketized\": [\"high\"], \"gende...  1669.0  3.445503   \n",
       "{\"item popularity_bucketized\": [\"low\", \"medium\"...  2375.0  3.471554   \n",
       "{\"item popularity_bucketized\": [\"low\", \"medium\"...  2767.0  3.504829   \n",
       "\n",
       "                                                         std           min  \\\n",
       "node_rules                                                                   \n",
       "{\"item popularity_bucketized\": [\"high\"], \"gende...  2.534460  6.091563e-06   \n",
       "{\"item popularity_bucketized\": [\"low\", \"medium\"...  2.918032  4.348951e-07   \n",
       "{\"item popularity_bucketized\": [\"high\"], \"gende...  2.739737  1.032598e-05   \n",
       "{\"item popularity_bucketized\": [\"high\"], \"gende...  3.000862  6.754026e-07   \n",
       "{\"item popularity_bucketized\": [\"low\", \"medium\"...  3.275967  3.019235e-06   \n",
       "{\"item popularity_bucketized\": [\"low\", \"medium\"...  3.252899  1.995524e-06   \n",
       "\n",
       "                                                         25%       50%  \\\n",
       "node_rules                                                               \n",
       "{\"item popularity_bucketized\": [\"high\"], \"gende...  1.111284  2.785234   \n",
       "{\"item popularity_bucketized\": [\"low\", \"medium\"...  1.033587  2.714092   \n",
       "{\"item popularity_bucketized\": [\"high\"], \"gende...  1.165611  2.921892   \n",
       "{\"item popularity_bucketized\": [\"high\"], \"gende...  1.003854  2.777877   \n",
       "{\"item popularity_bucketized\": [\"low\", \"medium\"...  0.826800  2.612261   \n",
       "{\"item popularity_bucketized\": [\"low\", \"medium\"...  0.926277  2.650882   \n",
       "\n",
       "                                                         75%        max  \n",
       "node_rules                                                               \n",
       "{\"item popularity_bucketized\": [\"high\"], \"gende...  4.766267  13.169058  \n",
       "{\"item popularity_bucketized\": [\"low\", \"medium\"...  5.062162  18.900330  \n",
       "{\"item popularity_bucketized\": [\"high\"], \"gende...  5.138381  19.296148  \n",
       "{\"item popularity_bucketized\": [\"high\"], \"gende...  5.187954  20.521087  \n",
       "{\"item popularity_bucketized\": [\"low\", \"medium\"...  5.309688  21.202477  \n",
       "{\"item popularity_bucketized\": [\"low\", \"medium\"...  5.250245  23.586313  "
      ]
     },
     "metadata": {},
     "output_type": "display_data"
    },
    {
     "data": {
      "image/png": "[encoded data removed]",
      "text/plain": [
       "<Figure size 929.25x360 with 1 Axes>"
      ]
     },
     "metadata": {
      "needs_background": "light"
     },
     "output_type": "display_data"
    }
   ],
   "source": [
    "bias_tree_test = get_metric_bias_tree_for_model(model, X_test, data.attributes_dict, \n",
    "                                                 metric_name=METRIC,\n",
    "                                                min_child_node_size=MIN_CHILD_NODE_SIZE)\n",
    "display(bias_tree_test.leaf_metrics)"
   ]
  },
  {
   "cell_type": "markdown",
   "metadata": {},
   "source": [
    "Show the node with highest error"
   ]
  },
  {
   "cell_type": "code",
   "execution_count": 10,
   "metadata": {},
   "outputs": [
    {
     "name": "stdout",
     "output_type": "stream",
     "text": [
      "{\"item popularity_bucketized\": [\"medium\"], \"age_bucketized\": [\"low\"]} 3.499\n"
     ]
    }
   ],
   "source": [
    "print(bias_tree_test.max_metric_node, round(bias_tree_test.max_metric_value, 3))"
   ]
  },
  {
   "cell_type": "markdown",
   "metadata": {},
   "source": [
    "### Retrain the model for the biased nodes"
   ]
  },
  {
   "cell_type": "code",
   "execution_count": 11,
   "metadata": {
    "scrolled": true
   },
   "outputs": [
    {
     "name": "stdout",
     "output_type": "stream",
     "text": [
      "{\"item popularity_bucketized\": [\"high\"], \"gender\": [\"F\"]} 3.283698231367271\n",
      "INFO:tensorflow:Reloading Oracle from existing project hyperparams\\recommeder-debias\\oracle.json\n",
      "INFO:tensorflow:Reloading Tuner from hyperparams\\recommeder-debias\\tuner0.json\n",
      "INFO:tensorflow:Oracle triggered exit\n",
      "<kerastuner.engine.hyperparameters.HyperParameters object at 0x00000253AE1797C8>\n",
      "Epoch 1/10\n",
      "WARNING:tensorflow:AutoGraph could not transform <function Model.make_train_function.<locals>.train_function at 0x00000253AE20CD38> and will run it as-is.\n",
      "Please report this to the TensorFlow team. When filing the bug, set the verbosity to 10 (on Linux, `export AUTOGRAPH_VERBOSITY=10`) and attach the full output.\n",
      "Cause: 'arguments' object has no attribute 'posonlyargs'\n",
      "To silence this warning, decorate the function with @tf.autograph.experimental.do_not_convert\n",
      "WARNING: AutoGraph could not transform <function Model.make_train_function.<locals>.train_function at 0x00000253AE20CD38> and will run it as-is.\n",
      "Please report this to the TensorFlow team. When filing the bug, set the verbosity to 10 (on Linux, `export AUTOGRAPH_VERBOSITY=10`) and attach the full output.\n",
      "Cause: 'arguments' object has no attribute 'posonlyargs'\n",
      "To silence this warning, decorate the function with @tf.autograph.experimental.do_not_convert\n",
      "78/78 [==============================] - ETA: 0s - loss: 0.9377 WARNING:tensorflow:AutoGraph could not transform <function Model.make_test_function.<locals>.test_function at 0x00000253AFCB1B88> and will run it as-is.\n",
      "Please report this to the TensorFlow team. When filing the bug, set the verbosity to 10 (on Linux, `export AUTOGRAPH_VERBOSITY=10`) and attach the full output.\n",
      "Cause: 'arguments' object has no attribute 'posonlyargs'\n",
      "To silence this warning, decorate the function with @tf.autograph.experimental.do_not_convert\n",
      "WARNING: AutoGraph could not transform <function Model.make_test_function.<locals>.test_function at 0x00000253AFCB1B88> and will run it as-is.\n",
      "Please report this to the TensorFlow team. When filing the bug, set the verbosity to 10 (on Linux, `export AUTOGRAPH_VERBOSITY=10`) and attach the full output.\n",
      "Cause: 'arguments' object has no attribute 'posonlyargs'\n",
      "To silence this warning, decorate the function with @tf.autograph.experimental.do_not_convert\n",
      "78/78 [==============================] - 1s 7ms/step - loss: 0.9377 - val_loss: 1.0551\n",
      "Epoch 2/10\n",
      "78/78 [==============================] - 0s 2ms/step - loss: 0.8949 - val_loss: 1.0368\n",
      "Epoch 3/10\n",
      "78/78 [==============================] - 0s 2ms/step - loss: 0.9147 - val_loss: 1.0387\n",
      "Epoch 4/10\n",
      "78/78 [==============================] - 0s 2ms/step - loss: 0.9226 - val_loss: 1.0496\n"
     ]
    },
    {
     "data": {
      "image/png": "[encoded data removed]",
      "text/plain": [
       "<Figure size 432x288 with 1 Axes>"
      ]
     },
     "metadata": {
      "needs_background": "light"
     },
     "output_type": "display_data"
    },
    {
     "name": "stdout",
     "output_type": "stream",
     "text": [
      "WARNING:tensorflow:AutoGraph could not transform <function Model.make_predict_function.<locals>.predict_function at 0x00000253AFE054C8> and will run it as-is.\n",
      "Please report this to the TensorFlow team. When filing the bug, set the verbosity to 10 (on Linux, `export AUTOGRAPH_VERBOSITY=10`) and attach the full output.\n",
      "Cause: 'arguments' object has no attribute 'posonlyargs'\n",
      "To silence this warning, decorate the function with @tf.autograph.experimental.do_not_convert\n",
      "WARNING: AutoGraph could not transform <function Model.make_predict_function.<locals>.predict_function at 0x00000253AFE054C8> and will run it as-is.\n",
      "Please report this to the TensorFlow team. When filing the bug, set the verbosity to 10 (on Linux, `export AUTOGRAPH_VERBOSITY=10`) and attach the full output.\n",
      "Cause: 'arguments' object has no attribute 'posonlyargs'\n",
      "To silence this warning, decorate the function with @tf.autograph.experimental.do_not_convert\n",
      "{\"item popularity_bucketized\": [\"low\"], \"user activity_bucketized\": [\"low\"]} 3.3903282525602836\n",
      "INFO:tensorflow:Reloading Oracle from existing project hyperparams\\recommeder-debias\\oracle.json\n",
      "INFO:tensorflow:Reloading Tuner from hyperparams\\recommeder-debias\\tuner0.json\n",
      "INFO:tensorflow:Oracle triggered exit\n",
      "<kerastuner.engine.hyperparameters.HyperParameters object at 0x00000253AFCED288>\n",
      "Epoch 1/10\n",
      "WARNING:tensorflow:AutoGraph could not transform <function Model.make_train_function.<locals>.train_function at 0x00000253AFD3C9D8> and will run it as-is.\n",
      "Please report this to the TensorFlow team. When filing the bug, set the verbosity to 10 (on Linux, `export AUTOGRAPH_VERBOSITY=10`) and attach the full output.\n",
      "Cause: 'arguments' object has no attribute 'posonlyargs'\n",
      "To silence this warning, decorate the function with @tf.autograph.experimental.do_not_convert\n",
      "WARNING: AutoGraph could not transform <function Model.make_train_function.<locals>.train_function at 0x00000253AFD3C9D8> and will run it as-is.\n",
      "Please report this to the TensorFlow team. When filing the bug, set the verbosity to 10 (on Linux, `export AUTOGRAPH_VERBOSITY=10`) and attach the full output.\n",
      "Cause: 'arguments' object has no attribute 'posonlyargs'\n",
      "To silence this warning, decorate the function with @tf.autograph.experimental.do_not_convert\n",
      "82/82 [==============================] - ETA: 0s - loss: 0.9689 WARNING:tensorflow:AutoGraph could not transform <function Model.make_test_function.<locals>.test_function at 0x00000253AFED2AF8> and will run it as-is.\n",
      "Please report this to the TensorFlow team. When filing the bug, set the verbosity to 10 (on Linux, `export AUTOGRAPH_VERBOSITY=10`) and attach the full output.\n",
      "Cause: 'arguments' object has no attribute 'posonlyargs'\n",
      "To silence this warning, decorate the function with @tf.autograph.experimental.do_not_convert\n",
      "WARNING: AutoGraph could not transform <function Model.make_test_function.<locals>.test_function at 0x00000253AFED2AF8> and will run it as-is.\n",
      "Please report this to the TensorFlow team. When filing the bug, set the verbosity to 10 (on Linux, `export AUTOGRAPH_VERBOSITY=10`) and attach the full output.\n",
      "Cause: 'arguments' object has no attribute 'posonlyargs'\n",
      "To silence this warning, decorate the function with @tf.autograph.experimental.do_not_convert\n",
      "82/82 [==============================] - 1s 5ms/step - loss: 0.9689 - val_loss: 1.2429\n",
      "Epoch 2/10\n",
      "82/82 [==============================] - 0s 2ms/step - loss: 0.9818 - val_loss: 1.1170\n",
      "Epoch 3/10\n",
      "82/82 [==============================] - 0s 2ms/step - loss: 0.9349 - val_loss: 1.1677\n",
      "Epoch 4/10\n",
      "82/82 [==============================] - 0s 2ms/step - loss: 0.9814 - val_loss: 1.1833\n"
     ]
    },
    {
     "data": {
      "image/png": "[encoded data removed]",
      "text/plain": [
       "<Figure size 432x288 with 1 Axes>"
      ]
     },
     "metadata": {
      "needs_background": "light"
     },
     "output_type": "display_data"
    },
    {
     "name": "stdout",
     "output_type": "stream",
     "text": [
      "WARNING:tensorflow:AutoGraph could not transform <function Model.make_predict_function.<locals>.predict_function at 0x00000253B02344C8> and will run it as-is.\n",
      "Please report this to the TensorFlow team. When filing the bug, set the verbosity to 10 (on Linux, `export AUTOGRAPH_VERBOSITY=10`) and attach the full output.\n",
      "Cause: 'arguments' object has no attribute 'posonlyargs'\n",
      "To silence this warning, decorate the function with @tf.autograph.experimental.do_not_convert\n",
      "WARNING: AutoGraph could not transform <function Model.make_predict_function.<locals>.predict_function at 0x00000253B02344C8> and will run it as-is.\n",
      "Please report this to the TensorFlow team. When filing the bug, set the verbosity to 10 (on Linux, `export AUTOGRAPH_VERBOSITY=10`) and attach the full output.\n",
      "Cause: 'arguments' object has no attribute 'posonlyargs'\n",
      "To silence this warning, decorate the function with @tf.autograph.experimental.do_not_convert\n",
      "{\"item popularity_bucketized\": [\"medium\"], \"age_bucketized\": [\"low\"]} 3.4991118772747165\n",
      "INFO:tensorflow:Reloading Oracle from existing project hyperparams\\recommeder-debias\\oracle.json\n",
      "INFO:tensorflow:Reloading Tuner from hyperparams\\recommeder-debias\\tuner0.json\n",
      "INFO:tensorflow:Oracle triggered exit\n",
      "<kerastuner.engine.hyperparameters.HyperParameters object at 0x00000253B0283A48>\n",
      "Epoch 1/10\n",
      "WARNING:tensorflow:AutoGraph could not transform <function Model.make_train_function.<locals>.train_function at 0x00000253AFF2B828> and will run it as-is.\n",
      "Please report this to the TensorFlow team. When filing the bug, set the verbosity to 10 (on Linux, `export AUTOGRAPH_VERBOSITY=10`) and attach the full output.\n",
      "Cause: 'arguments' object has no attribute 'posonlyargs'\n",
      "To silence this warning, decorate the function with @tf.autograph.experimental.do_not_convert\n",
      "WARNING: AutoGraph could not transform <function Model.make_train_function.<locals>.train_function at 0x00000253AFF2B828> and will run it as-is.\n",
      "Please report this to the TensorFlow team. When filing the bug, set the verbosity to 10 (on Linux, `export AUTOGRAPH_VERBOSITY=10`) and attach the full output.\n",
      "Cause: 'arguments' object has no attribute 'posonlyargs'\n",
      "To silence this warning, decorate the function with @tf.autograph.experimental.do_not_convert\n",
      " 84/105 [=======================>......] - ETA: 0s - loss: 0.8962 WARNING:tensorflow:AutoGraph could not transform <function Model.make_test_function.<locals>.test_function at 0x00000253AE1CFF78> and will run it as-is.\n",
      "Please report this to the TensorFlow team. When filing the bug, set the verbosity to 10 (on Linux, `export AUTOGRAPH_VERBOSITY=10`) and attach the full output.\n",
      "Cause: 'arguments' object has no attribute 'posonlyargs'\n",
      "To silence this warning, decorate the function with @tf.autograph.experimental.do_not_convert\n",
      "WARNING: AutoGraph could not transform <function Model.make_test_function.<locals>.test_function at 0x00000253AE1CFF78> and will run it as-is.\n",
      "Please report this to the TensorFlow team. When filing the bug, set the verbosity to 10 (on Linux, `export AUTOGRAPH_VERBOSITY=10`) and attach the full output.\n",
      "Cause: 'arguments' object has no attribute 'posonlyargs'\n",
      "To silence this warning, decorate the function with @tf.autograph.experimental.do_not_convert\n",
      "105/105 [==============================] - 1s 4ms/step - loss: 0.8976 - val_loss: 0.9960\n",
      "Epoch 2/10\n",
      "105/105 [==============================] - 0s 3ms/step - loss: 0.8838 - val_loss: 0.9793\n",
      "Epoch 3/10\n",
      "105/105 [==============================] - 0s 2ms/step - loss: 0.9097 - val_loss: 0.9683\n",
      "Epoch 4/10\n",
      "105/105 [==============================] - 0s 2ms/step - loss: 0.8671 - val_loss: 0.9539\n",
      "Epoch 5/10\n",
      "105/105 [==============================] - 0s 3ms/step - loss: 0.8939 - val_loss: 0.9534\n",
      "Epoch 6/10\n",
      "105/105 [==============================] - 0s 3ms/step - loss: 0.8406 - val_loss: 0.9505\n",
      "Epoch 7/10\n",
      "105/105 [==============================] - 0s 2ms/step - loss: 0.8683 - val_loss: 0.9484\n",
      "Epoch 8/10\n",
      "105/105 [==============================] - 0s 3ms/step - loss: 0.8596 - val_loss: 0.9421\n",
      "Epoch 9/10\n",
      "105/105 [==============================] - 0s 2ms/step - loss: 0.8385 - val_loss: 0.9434\n",
      "Epoch 10/10\n",
      "105/105 [==============================] - 0s 2ms/step - loss: 0.8490 - val_loss: 0.9443\n"
     ]
    },
    {
     "data": {
      "image/png": "[encoded data removed]",
      "text/plain": [
       "<Figure size 432x288 with 1 Axes>"
      ]
     },
     "metadata": {
      "needs_background": "light"
     },
     "output_type": "display_data"
    },
    {
     "name": "stdout",
     "output_type": "stream",
     "text": [
      "WARNING:tensorflow:AutoGraph could not transform <function Model.make_predict_function.<locals>.predict_function at 0x00000253AFCC4438> and will run it as-is.\n",
      "Please report this to the TensorFlow team. When filing the bug, set the verbosity to 10 (on Linux, `export AUTOGRAPH_VERBOSITY=10`) and attach the full output.\n",
      "Cause: 'arguments' object has no attribute 'posonlyargs'\n",
      "To silence this warning, decorate the function with @tf.autograph.experimental.do_not_convert\n",
      "WARNING: AutoGraph could not transform <function Model.make_predict_function.<locals>.predict_function at 0x00000253AFCC4438> and will run it as-is.\n",
      "Please report this to the TensorFlow team. When filing the bug, set the verbosity to 10 (on Linux, `export AUTOGRAPH_VERBOSITY=10`) and attach the full output.\n",
      "Cause: 'arguments' object has no attribute 'posonlyargs'\n",
      "To silence this warning, decorate the function with @tf.autograph.experimental.do_not_convert\n"
     ]
    }
   ],
   "source": [
    "RETRAIN_EPOCHS = 10\n",
    "mean_test_metric = X_test[METRIC].mean()\n",
    "retrain_metrics = []\n",
    "\n",
    "biased_nodes = bias_tree_test.leaf_metrics[bias_tree_test.leaf_metrics['mean'] > mean_test_metric]\n",
    "for i, node_rules in biased_nodes.iterrows():\n",
    "    print(node_rules.name,  node_rules[\"mean\"])\n",
    "\n",
    "    X_train_filtered = bias_tree_test.get_filtered_df(node_rules.name,  X_train)\n",
    "    X_val_filtered = BiasDetectionTree.get_filtered_df(node_rules.name,  X_val)\n",
    "    model_tuned_bias = tune_recommendation_hyperparams(X_train, X_val_filtered, num_users=data.num_users,\n",
    "                                                       num_items=data.num_items, \n",
    "                                 epochs=NUM_EPOCH,)\n",
    "#     model = fit_recommendation_model(X_train, X_val_filtered, num_users=data.num_users, num_items=data.num_items, \n",
    "#                                  epochs=100, embedding_size=10, \n",
    "#                                  regularization_coef=1e-4,\n",
    "#                                  lr=0.001)\n",
    "    model_bias = retrain_recommendation_model(X_train_filtered, X_val_filtered, model=model_tuned_bias, epochs=RETRAIN_EPOCHS, \n",
    "                                              retrain_embeddings=False)    \n",
    "    node_metric_after_retraining = evaluate_model(model_bias, \n",
    "                                                  BiasDetectionTree.get_filtered_df(node_rules.name,  X_test), \n",
    "                                                  METRIC).mean()\n",
    "    retrain_metrics.append({\n",
    "        'node_rules': node_rules.name,\n",
    "        'node_metric':  node_rules[\"mean\"],\n",
    "        'node_metric_after_retraining': node_metric_after_retraining\n",
    "    })\n",
    "retrain_metrics_pd = pd.DataFrame(retrain_metrics)"
   ]
  },
  {
   "cell_type": "code",
   "execution_count": 12,
   "metadata": {},
   "outputs": [],
   "source": [
    "retrain_metrics_pd['retrain_diff_pct'] = 100*(retrain_metrics_pd['node_metric'] \n",
    "                                          - retrain_metrics_pd['node_metric_after_retraining']) \\\n",
    "                                            / retrain_metrics_pd['node_metric']"
   ]
  },
  {
   "cell_type": "code",
   "execution_count": 13,
   "metadata": {},
   "outputs": [
    {
     "data": {
      "text/html": [
       "<div>\n",
       "<style scoped>\n",
       "    .dataframe tbody tr th:only-of-type {\n",
       "        vertical-align: middle;\n",
       "    }\n",
       "\n",
       "    .dataframe tbody tr th {\n",
       "        vertical-align: top;\n",
       "    }\n",
       "\n",
       "    .dataframe thead th {\n",
       "        text-align: right;\n",
       "    }\n",
       "</style>\n",
       "<table border=\"1\" class=\"dataframe\">\n",
       "  <thead>\n",
       "    <tr style=\"text-align: right;\">\n",
       "      <th></th>\n",
       "      <th>node_rules</th>\n",
       "      <th>node_metric</th>\n",
       "      <th>node_metric_after_retraining</th>\n",
       "      <th>retrain_diff_pct</th>\n",
       "    </tr>\n",
       "  </thead>\n",
       "  <tbody>\n",
       "    <tr>\n",
       "      <th>0</th>\n",
       "      <td>{\"item popularity_bucketized\": [\"high\"], \"gend...</td>\n",
       "      <td>3.283698</td>\n",
       "      <td>3.241795</td>\n",
       "      <td>1.276110</td>\n",
       "    </tr>\n",
       "    <tr>\n",
       "      <th>1</th>\n",
       "      <td>{\"item popularity_bucketized\": [\"low\"], \"user ...</td>\n",
       "      <td>3.390328</td>\n",
       "      <td>3.700202</td>\n",
       "      <td>-9.139928</td>\n",
       "    </tr>\n",
       "    <tr>\n",
       "      <th>2</th>\n",
       "      <td>{\"item popularity_bucketized\": [\"medium\"], \"ag...</td>\n",
       "      <td>3.499112</td>\n",
       "      <td>3.299423</td>\n",
       "      <td>5.706832</td>\n",
       "    </tr>\n",
       "  </tbody>\n",
       "</table>\n",
       "</div>"
      ],
      "text/plain": [
       "                                          node_rules  node_metric  \\\n",
       "0  {\"item popularity_bucketized\": [\"high\"], \"gend...     3.283698   \n",
       "1  {\"item popularity_bucketized\": [\"low\"], \"user ...     3.390328   \n",
       "2  {\"item popularity_bucketized\": [\"medium\"], \"ag...     3.499112   \n",
       "\n",
       "   node_metric_after_retraining  retrain_diff_pct  \n",
       "0                      3.241795          1.276110  \n",
       "1                      3.700202         -9.139928  \n",
       "2                      3.299423          5.706832  "
      ]
     },
     "execution_count": 13,
     "metadata": {},
     "output_type": "execute_result"
    }
   ],
   "source": [
    "retrain_metrics_pd"
   ]
  },
  {
   "cell_type": "code",
   "execution_count": null,
   "metadata": {},
   "outputs": [],
   "source": []
  },
  {
   "cell_type": "code",
   "execution_count": null,
   "metadata": {},
   "outputs": [],
   "source": []
  }
 ],
 "metadata": {
  "kernelspec": {
   "display_name": "Python 3",
   "language": "python",
   "name": "python3"
  },
  "language_info": {
   "codemirror_mode": {
    "name": "ipython",
    "version": 3
   },
   "file_extension": ".py",
   "mimetype": "text/x-python",
   "name": "python",
   "nbconvert_exporter": "python",
   "pygments_lexer": "ipython3",
   "version": "3.7.4"
  }
 },
 "nbformat": 4,
 "nbformat_minor": 2
}
