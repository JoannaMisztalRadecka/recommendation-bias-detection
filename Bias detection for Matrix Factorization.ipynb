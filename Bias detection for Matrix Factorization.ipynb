{
 "cells": [
  {
   "cell_type": "code",
   "execution_count": null,
   "metadata": {},
   "outputs": [],
   "source": [
    "from bias_tree import BiasDetectionTree, get_metric_bias_tree_for_model\n",
    "from data_preparation.movielens_100k import MovieLens100KData\n",
    "from recommender import fit_recommendation_model, retrain_recommendation_model"
   ]
  },
  {
   "cell_type": "markdown",
   "metadata": {},
   "source": [
    "### Prepare training data"
   ]
  },
  {
   "cell_type": "code",
   "execution_count": null,
   "metadata": {},
   "outputs": [],
   "source": [
    "data = MovieLens100KData(data_path='data/ml-100k')\n",
    "X_train, X_val, X_test = data.get_data_splits_for_training()"
   ]
  },
  {
   "cell_type": "markdown",
   "metadata": {},
   "source": [
    "### Train MF recommendation model"
   ]
  },
  {
   "cell_type": "code",
   "execution_count": null,
   "metadata": {},
   "outputs": [],
   "source": [
    "EMBEDDING_SIZE = 50\n",
    "NUM_EPOCH = 20"
   ]
  },
  {
   "cell_type": "code",
   "execution_count": null,
   "metadata": {
    "scrolled": true
   },
   "outputs": [],
   "source": [
    "model = fit_recommendation_model(X_train, X_val, num_users=data.num_users, num_items=data.num_items, \n",
    "                                 epochs=NUM_EPOCH, embedding_size=EMBEDDING_SIZE)"
   ]
  },
  {
   "cell_type": "markdown",
   "metadata": {},
   "source": [
    "### Analyze bias for the recommendation model"
   ]
  },
  {
   "cell_type": "code",
   "execution_count": null,
   "metadata": {},
   "outputs": [],
   "source": [
    "MIN_CHILD_NODE_SIZE = 1000"
   ]
  },
  {
   "cell_type": "code",
   "execution_count": null,
   "metadata": {},
   "outputs": [],
   "source": [
    "bias_tree_test = get_metric_bias_tree_for_model(model, X_test, data.attributes_dict, \n",
    "                                                 metric_name='absolute_error',\n",
    "                                                min_child_node_size=MIN_CHILD_NODE_SIZE)\n",
    "bias_tree_test.leaf_metrics"
   ]
  },
  {
   "cell_type": "code",
   "execution_count": null,
   "metadata": {},
   "outputs": [],
   "source": [
    "print(bias_tree_test.max_metric_node, round(bias_tree_test.max_metric_value, 3))"
   ]
  },
  {
   "cell_type": "code",
   "execution_count": null,
   "metadata": {
    "scrolled": true
   },
   "outputs": [],
   "source": [
    "X_train_filtered = bias_tree_test.get_filtered_df('{\"year_bucketized\": [\"low\"], \"gender\": [\"F\"]}',  X_train)\n",
    "X_val_filtered = bias_tree_test.get_filtered_df('{\"year_bucketized\": [\"low\"], \"gender\": [\"F\"]}',  X_val)\n",
    "\n",
    "model_bias = retrain_recommendation_model(X_train_filtered, X_val_filtered, model=model, epochs=20)"
   ]
  },
  {
   "cell_type": "code",
   "execution_count": null,
   "metadata": {},
   "outputs": [],
   "source": [
    "bias_tree_test_retrained = get_metric_bias_tree_for_model(model_bias, X_test, data.attributes_dict, \n",
    "                                                 metric_name='absolute_error', min_child_node_size=MIN_CHILD_NODE_SIZE,)"
   ]
  },
  {
   "cell_type": "code",
   "execution_count": null,
   "metadata": {},
   "outputs": [],
   "source": [
    "bias_tree_test_retrained.leaf_metrics"
   ]
  },
  {
   "cell_type": "code",
   "execution_count": null,
   "metadata": {},
   "outputs": [],
   "source": [
    "node_metric_after_retraining = bias_tree_test_retrained.get_filtered_df('{\"year_bucketized\": [\"low\"], \"gender\": [\"F\"]}',  X_test)['absolute_error'].mean()"
   ]
  },
  {
   "cell_type": "code",
   "execution_count": null,
   "metadata": {},
   "outputs": [],
   "source": [
    "print(f'{round(100 * (node_metric_after_retraining - bias_tree_test.max_metric_value) / bias_tree_test.max_metric_value, 2)}%')"
   ]
  },
  {
   "cell_type": "code",
   "execution_count": null,
   "metadata": {},
   "outputs": [],
   "source": []
  },
  {
   "cell_type": "code",
   "execution_count": null,
   "metadata": {},
   "outputs": [],
   "source": []
  }
 ],
 "metadata": {
  "kernelspec": {
   "display_name": "Python 3",
   "language": "python",
   "name": "python3"
  },
  "language_info": {
   "codemirror_mode": {
    "name": "ipython",
    "version": 3
   },
   "file_extension": ".py",
   "mimetype": "text/x-python",
   "name": "python",
   "nbconvert_exporter": "python",
   "pygments_lexer": "ipython3",
   "version": "3.7.4"
  }
 },
 "nbformat": 4,
 "nbformat_minor": 2
}
